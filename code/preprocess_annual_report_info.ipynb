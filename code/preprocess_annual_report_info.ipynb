{
 "metadata": {
  "language_info": {
   "codemirror_mode": {
    "name": "ipython",
    "version": 3
   },
   "file_extension": ".py",
   "mimetype": "text/x-python",
   "name": "python",
   "nbconvert_exporter": "python",
   "pygments_lexer": "ipython3",
   "version": "3.8.5-final"
  },
  "orig_nbformat": 2,
  "kernelspec": {
   "name": "Python 3.8.5 64-bit ('w': conda)",
   "display_name": "Python 3.8.5 64-bit ('w': conda)",
   "metadata": {
    "interpreter": {
     "hash": "676aedceea7fc84534537127a7fbae2014c13e8cc8da94ff465a8c09804ac359"
    }
   }
  }
 },
 "nbformat": 4,
 "nbformat_minor": 2,
 "cells": [
  {
   "cell_type": "code",
   "execution_count": 1,
   "metadata": {},
   "outputs": [],
   "source": [
    "import pandas as pd\n",
    "import numpy as np\n",
    "from tqdm import tqdm"
   ]
  },
  {
   "cell_type": "code",
   "execution_count": 2,
   "metadata": {},
   "outputs": [],
   "source": [
    "def na_table(x):\n",
    "    na = pd.DataFrame(x.isna().sum())\n",
    "    nna = pd.DataFrame(x.notna().sum())\n",
    "    na.reset_index(inplace=True)\n",
    "    nna.reset_index(inplace=True)\n",
    "    na = na[na[0]>0]\n",
    "    na = na.merge(nna, on='index')\n",
    "    na.columns = ['col', 'isNA', 'notNA']\n",
    "    return na"
   ]
  },
  {
   "cell_type": "code",
   "execution_count": 3,
   "metadata": {},
   "outputs": [
    {
     "output_type": "execute_result",
     "data": {
      "text/plain": [
       "              col   isNA  notNA\n",
       "0           STATE      5  22443\n",
       "1          FUNDAM  16749   5699\n",
       "2          MEMNUM  22419     29\n",
       "3          FARNUM  22419     29\n",
       "4    ANNNEWMEMNUM  22419     29\n",
       "5    ANNREDMEMNUM  22419     29\n",
       "6          EMPNUM     15  22433\n",
       "7      EMPNUMSIGN   5714  16734\n",
       "8       BUSSTNAME   4870  17578\n",
       "9       COLGRANUM   2488  19960\n",
       "10      RETSOLNUM   2488  19960\n",
       "11      DISPERNUM   2488  19960\n",
       "12         UNENUM   2488  19960\n",
       "13     COLEMPLNUM   2488  19960\n",
       "14     RETEMPLNUM   2488  19960\n",
       "15     DISEMPLNUM   2488  19960\n",
       "16     UNEEMPLNUM   2488  19960\n",
       "17     WEBSITSIGN     33  22415\n",
       "18  FORINVESTSIGN   6057  16391\n",
       "19  STOCKTRANSIGN   9026  13422\n",
       "20       PUBSTATE     20  22428"
      ],
      "text/html": "<div>\n<style scoped>\n    .dataframe tbody tr th:only-of-type {\n        vertical-align: middle;\n    }\n\n    .dataframe tbody tr th {\n        vertical-align: top;\n    }\n\n    .dataframe thead th {\n        text-align: right;\n    }\n</style>\n<table border=\"1\" class=\"dataframe\">\n  <thead>\n    <tr style=\"text-align: right;\">\n      <th></th>\n      <th>col</th>\n      <th>isNA</th>\n      <th>notNA</th>\n    </tr>\n  </thead>\n  <tbody>\n    <tr>\n      <th>0</th>\n      <td>STATE</td>\n      <td>5</td>\n      <td>22443</td>\n    </tr>\n    <tr>\n      <th>1</th>\n      <td>FUNDAM</td>\n      <td>16749</td>\n      <td>5699</td>\n    </tr>\n    <tr>\n      <th>2</th>\n      <td>MEMNUM</td>\n      <td>22419</td>\n      <td>29</td>\n    </tr>\n    <tr>\n      <th>3</th>\n      <td>FARNUM</td>\n      <td>22419</td>\n      <td>29</td>\n    </tr>\n    <tr>\n      <th>4</th>\n      <td>ANNNEWMEMNUM</td>\n      <td>22419</td>\n      <td>29</td>\n    </tr>\n    <tr>\n      <th>5</th>\n      <td>ANNREDMEMNUM</td>\n      <td>22419</td>\n      <td>29</td>\n    </tr>\n    <tr>\n      <th>6</th>\n      <td>EMPNUM</td>\n      <td>15</td>\n      <td>22433</td>\n    </tr>\n    <tr>\n      <th>7</th>\n      <td>EMPNUMSIGN</td>\n      <td>5714</td>\n      <td>16734</td>\n    </tr>\n    <tr>\n      <th>8</th>\n      <td>BUSSTNAME</td>\n      <td>4870</td>\n      <td>17578</td>\n    </tr>\n    <tr>\n      <th>9</th>\n      <td>COLGRANUM</td>\n      <td>2488</td>\n      <td>19960</td>\n    </tr>\n    <tr>\n      <th>10</th>\n      <td>RETSOLNUM</td>\n      <td>2488</td>\n      <td>19960</td>\n    </tr>\n    <tr>\n      <th>11</th>\n      <td>DISPERNUM</td>\n      <td>2488</td>\n      <td>19960</td>\n    </tr>\n    <tr>\n      <th>12</th>\n      <td>UNENUM</td>\n      <td>2488</td>\n      <td>19960</td>\n    </tr>\n    <tr>\n      <th>13</th>\n      <td>COLEMPLNUM</td>\n      <td>2488</td>\n      <td>19960</td>\n    </tr>\n    <tr>\n      <th>14</th>\n      <td>RETEMPLNUM</td>\n      <td>2488</td>\n      <td>19960</td>\n    </tr>\n    <tr>\n      <th>15</th>\n      <td>DISEMPLNUM</td>\n      <td>2488</td>\n      <td>19960</td>\n    </tr>\n    <tr>\n      <th>16</th>\n      <td>UNEEMPLNUM</td>\n      <td>2488</td>\n      <td>19960</td>\n    </tr>\n    <tr>\n      <th>17</th>\n      <td>WEBSITSIGN</td>\n      <td>33</td>\n      <td>22415</td>\n    </tr>\n    <tr>\n      <th>18</th>\n      <td>FORINVESTSIGN</td>\n      <td>6057</td>\n      <td>16391</td>\n    </tr>\n    <tr>\n      <th>19</th>\n      <td>STOCKTRANSIGN</td>\n      <td>9026</td>\n      <td>13422</td>\n    </tr>\n    <tr>\n      <th>20</th>\n      <td>PUBSTATE</td>\n      <td>20</td>\n      <td>22428</td>\n    </tr>\n  </tbody>\n</table>\n</div>"
     },
     "metadata": {},
     "execution_count": 3
    }
   ],
   "source": [
    "data_dir = '../train/'\n",
    "features_dir = '../features/'\n",
    "annual_report_info = pd.read_csv(data_dir + 'annual_report_info.csv', encoding='gbk')\n",
    "annual_report_info.drop_duplicates(inplace=True)\n",
    "a = annual_report_info.copy()\n",
    "na = na_table(annual_report_info)\n",
    "na"
   ]
  },
  {
   "cell_type": "code",
   "execution_count": 4,
   "metadata": {},
   "outputs": [
    {
     "output_type": "execute_result",
     "data": {
      "text/plain": [
       "             col   isNA  notNA\n",
       "0         FUNDAM  16749   5699\n",
       "1         MEMNUM  22419     29\n",
       "2         FARNUM  22419     29\n",
       "3   ANNNEWMEMNUM  22419     29\n",
       "4   ANNREDMEMNUM  22419     29\n",
       "5         EMPNUM     15  22433\n",
       "6      BUSSTNAME   4870  17578\n",
       "7      COLGRANUM   2488  19960\n",
       "8      RETSOLNUM   2488  19960\n",
       "9      DISPERNUM   2488  19960\n",
       "10        UNENUM   2488  19960\n",
       "11    COLEMPLNUM   2488  19960\n",
       "12    RETEMPLNUM   2488  19960\n",
       "13    DISEMPLNUM   2488  19960\n",
       "14    UNEEMPLNUM   2488  19960"
      ],
      "text/html": "<div>\n<style scoped>\n    .dataframe tbody tr th:only-of-type {\n        vertical-align: middle;\n    }\n\n    .dataframe tbody tr th {\n        vertical-align: top;\n    }\n\n    .dataframe thead th {\n        text-align: right;\n    }\n</style>\n<table border=\"1\" class=\"dataframe\">\n  <thead>\n    <tr style=\"text-align: right;\">\n      <th></th>\n      <th>col</th>\n      <th>isNA</th>\n      <th>notNA</th>\n    </tr>\n  </thead>\n  <tbody>\n    <tr>\n      <th>0</th>\n      <td>FUNDAM</td>\n      <td>16749</td>\n      <td>5699</td>\n    </tr>\n    <tr>\n      <th>1</th>\n      <td>MEMNUM</td>\n      <td>22419</td>\n      <td>29</td>\n    </tr>\n    <tr>\n      <th>2</th>\n      <td>FARNUM</td>\n      <td>22419</td>\n      <td>29</td>\n    </tr>\n    <tr>\n      <th>3</th>\n      <td>ANNNEWMEMNUM</td>\n      <td>22419</td>\n      <td>29</td>\n    </tr>\n    <tr>\n      <th>4</th>\n      <td>ANNREDMEMNUM</td>\n      <td>22419</td>\n      <td>29</td>\n    </tr>\n    <tr>\n      <th>5</th>\n      <td>EMPNUM</td>\n      <td>15</td>\n      <td>22433</td>\n    </tr>\n    <tr>\n      <th>6</th>\n      <td>BUSSTNAME</td>\n      <td>4870</td>\n      <td>17578</td>\n    </tr>\n    <tr>\n      <th>7</th>\n      <td>COLGRANUM</td>\n      <td>2488</td>\n      <td>19960</td>\n    </tr>\n    <tr>\n      <th>8</th>\n      <td>RETSOLNUM</td>\n      <td>2488</td>\n      <td>19960</td>\n    </tr>\n    <tr>\n      <th>9</th>\n      <td>DISPERNUM</td>\n      <td>2488</td>\n      <td>19960</td>\n    </tr>\n    <tr>\n      <th>10</th>\n      <td>UNENUM</td>\n      <td>2488</td>\n      <td>19960</td>\n    </tr>\n    <tr>\n      <th>11</th>\n      <td>COLEMPLNUM</td>\n      <td>2488</td>\n      <td>19960</td>\n    </tr>\n    <tr>\n      <th>12</th>\n      <td>RETEMPLNUM</td>\n      <td>2488</td>\n      <td>19960</td>\n    </tr>\n    <tr>\n      <th>13</th>\n      <td>DISEMPLNUM</td>\n      <td>2488</td>\n      <td>19960</td>\n    </tr>\n    <tr>\n      <th>14</th>\n      <td>UNEEMPLNUM</td>\n      <td>2488</td>\n      <td>19960</td>\n    </tr>\n  </tbody>\n</table>\n</div>"
     },
     "metadata": {},
     "execution_count": 4
    }
   ],
   "source": [
    "annual_report_info['STATE'].fillna(0, inplace=True)\n",
    "# annual_report_info['FUNDAM'].fillna(annual_report_info['FUNDAM'].mean(),inplace=True)\n",
    "# annual_report_info['EMPNUM'].fillna(annual_report_info['EMPNUM'].mean(),inplace=True)\n",
    "annual_report_info['EMPNUMSIGN'].fillna(0, inplace = True)\n",
    "# annual_report_info['BUSSTNAME'].fillna('Unknown',inplace=True)\n",
    "# annual_report_info['UNEEMPLNUM'].fillna('Unknown', inplace = True)\n",
    "# annual_report_info['DISEMPLNUM'].fillna('Unknown', inplace = True)\n",
    "# annual_report_info['RETEMPLNUM'].fillna('Unknown', inplace = True)\n",
    "# annual_report_info['COLEMPLNUM'].fillna('Unknown', inplace = True)\n",
    "# annual_report_info['UNENUM'].fillna('Unknown', inplace = True)\n",
    "# annual_report_info['DISPERNUM'].fillna('Unknown', inplace = True)\n",
    "# annual_report_info['RETSOLNUM'].fillna('Unknown', inplace = True)\n",
    "# annual_report_info['COLGRANUM'].fillna('Unknown', inplace = True)\n",
    "annual_report_info['WEBSITSIGN'].fillna(0, inplace = True)\n",
    "annual_report_info['FORINVESTSIGN'].fillna(0, inplace = True)\n",
    "annual_report_info['STOCKTRANSIGN'].fillna(0, inplace = True)\n",
    "annual_report_info['PUBSTATE'].fillna(0, inplace = True)\n",
    "na_table(annual_report_info)"
   ]
  },
  {
   "cell_type": "code",
   "execution_count": 5,
   "metadata": {},
   "outputs": [
    {
     "output_type": "stream",
     "name": "stderr",
     "text": [
      "100%|██████████| 8937/8937 [05:05<00:00, 29.21it/s]\n"
     ]
    }
   ],
   "source": [
    "num_cols = [i for i in annual_report_info.columns if i[-1]=='M']\n",
    "cat_cols = [i for i in annual_report_info.columns if i[-2:]=='GN' or i[-2:]=='TE']\n",
    "grouped = annual_report_info.groupby('id')\n",
    "annual_report_info = annual_report_info.groupby('id').count().reset_index()\n",
    "for i in tqdm(annual_report_info['id']):\n",
    "    for j in num_cols:\n",
    "        annual_report_info.loc[annual_report_info.id==i,j] = grouped.get_group(i)[j].fillna(0).diff().mean()\n",
    "    for j in cat_cols:\n",
    "        annual_report_info.loc[annual_report_info.id==i,j] = grouped.get_group(i)[j].mean()"
   ]
  },
  {
   "cell_type": "code",
   "execution_count": 6,
   "metadata": {},
   "outputs": [],
   "source": [
    "annual_report_info.set_index(keys='id', inplace=True)\n",
    "annual_report_info.to_csv(features_dir + 'annual_report_info.csv')"
   ]
  },
  {
   "cell_type": "code",
   "execution_count": 7,
   "metadata": {},
   "outputs": [
    {
     "output_type": "execute_result",
     "data": {
      "text/plain": [
       "                                                 ANNNEWMEMNUM                \\\n",
       "ANCHEYEAR                                              2015.0 2016.0 2017.0   \n",
       "id                                                                            \n",
       "175ebe5f059ec05007223e9af0a48b885f4cbfa833d93eed          NaN    NaN    NaN   \n",
       "175ebe5f059ec05036d901021be6da41057ae3ee1fe6b8bb          NaN    NaN    NaN   \n",
       "175ebe5f059ec050efe07058fc35890a2b8858a6795a2e24          0.0    NaN    NaN   \n",
       "216bd2aaf4d0792406c041069b786b3bcb5baa4cf80d5987          0.0    0.0    0.0   \n",
       "216bd2aaf4d079240c2b8f7bbf3177618ad289f21af0221e          NaN    NaN    NaN   \n",
       "\n",
       "                                                        ANNREDMEMNUM         \\\n",
       "ANCHEYEAR                                        2018.0       2015.0 2016.0   \n",
       "id                                                                            \n",
       "175ebe5f059ec05007223e9af0a48b885f4cbfa833d93eed    NaN          NaN    NaN   \n",
       "175ebe5f059ec05036d901021be6da41057ae3ee1fe6b8bb    NaN          NaN    NaN   \n",
       "175ebe5f059ec050efe07058fc35890a2b8858a6795a2e24    NaN          0.0    NaN   \n",
       "216bd2aaf4d0792406c041069b786b3bcb5baa4cf80d5987    NaN          0.0    0.0   \n",
       "216bd2aaf4d079240c2b8f7bbf3177618ad289f21af0221e    NaN          NaN    NaN   \n",
       "\n",
       "                                                               COLEMPLNUM  \\\n",
       "ANCHEYEAR                                        2017.0 2018.0     2015.0   \n",
       "id                                                                          \n",
       "175ebe5f059ec05007223e9af0a48b885f4cbfa833d93eed    NaN    NaN        0.0   \n",
       "175ebe5f059ec05036d901021be6da41057ae3ee1fe6b8bb    NaN    NaN       10.0   \n",
       "175ebe5f059ec050efe07058fc35890a2b8858a6795a2e24    NaN    NaN        0.0   \n",
       "216bd2aaf4d0792406c041069b786b3bcb5baa4cf80d5987    0.0    NaN        0.0   \n",
       "216bd2aaf4d079240c2b8f7bbf3177618ad289f21af0221e    NaN    NaN        0.0   \n",
       "\n",
       "                                                         ... UNEEMPLNUM  \\\n",
       "ANCHEYEAR                                        2016.0  ...     2017.0   \n",
       "id                                                       ...              \n",
       "175ebe5f059ec05007223e9af0a48b885f4cbfa833d93eed    0.0  ...        NaN   \n",
       "175ebe5f059ec05036d901021be6da41057ae3ee1fe6b8bb   10.0  ...        0.0   \n",
       "175ebe5f059ec050efe07058fc35890a2b8858a6795a2e24   25.0  ...        2.0   \n",
       "216bd2aaf4d0792406c041069b786b3bcb5baa4cf80d5987    0.0  ...        0.0   \n",
       "216bd2aaf4d079240c2b8f7bbf3177618ad289f21af0221e    0.0  ...        0.0   \n",
       "\n",
       "                                                        UNENUM                \\\n",
       "ANCHEYEAR                                        2018.0 2015.0 2016.0 2017.0   \n",
       "id                                                                             \n",
       "175ebe5f059ec05007223e9af0a48b885f4cbfa833d93eed    NaN    0.0    0.0    NaN   \n",
       "175ebe5f059ec05036d901021be6da41057ae3ee1fe6b8bb    0.0    0.0    0.0    0.0   \n",
       "175ebe5f059ec050efe07058fc35890a2b8858a6795a2e24    0.0    0.0    0.0    0.0   \n",
       "216bd2aaf4d0792406c041069b786b3bcb5baa4cf80d5987    0.0    0.0    0.0    0.0   \n",
       "216bd2aaf4d079240c2b8f7bbf3177618ad289f21af0221e    0.0    0.0    0.0    0.0   \n",
       "\n",
       "                                                        WEBSITSIGN         \\\n",
       "ANCHEYEAR                                        2018.0     2015.0 2016.0   \n",
       "id                                                                          \n",
       "175ebe5f059ec05007223e9af0a48b885f4cbfa833d93eed    NaN        2.0    2.0   \n",
       "175ebe5f059ec05036d901021be6da41057ae3ee1fe6b8bb    0.0        1.0    1.0   \n",
       "175ebe5f059ec050efe07058fc35890a2b8858a6795a2e24    0.0        0.0    2.0   \n",
       "216bd2aaf4d0792406c041069b786b3bcb5baa4cf80d5987    0.0        0.0    0.0   \n",
       "216bd2aaf4d079240c2b8f7bbf3177618ad289f21af0221e    0.0        2.0    2.0   \n",
       "\n",
       "                                                                \n",
       "ANCHEYEAR                                        2017.0 2018.0  \n",
       "id                                                              \n",
       "175ebe5f059ec05007223e9af0a48b885f4cbfa833d93eed    2.0    2.0  \n",
       "175ebe5f059ec05036d901021be6da41057ae3ee1fe6b8bb    1.0    1.0  \n",
       "175ebe5f059ec050efe07058fc35890a2b8858a6795a2e24    2.0    2.0  \n",
       "216bd2aaf4d0792406c041069b786b3bcb5baa4cf80d5987    0.0    2.0  \n",
       "216bd2aaf4d079240c2b8f7bbf3177618ad289f21af0221e    2.0    2.0  \n",
       "\n",
       "[5 rows x 80 columns]"
      ],
      "text/html": "<div>\n<style scoped>\n    .dataframe tbody tr th:only-of-type {\n        vertical-align: middle;\n    }\n\n    .dataframe tbody tr th {\n        vertical-align: top;\n    }\n\n    .dataframe thead tr th {\n        text-align: left;\n    }\n\n    .dataframe thead tr:last-of-type th {\n        text-align: right;\n    }\n</style>\n<table border=\"1\" class=\"dataframe\">\n  <thead>\n    <tr>\n      <th></th>\n      <th colspan=\"4\" halign=\"left\">ANNNEWMEMNUM</th>\n      <th colspan=\"4\" halign=\"left\">ANNREDMEMNUM</th>\n      <th colspan=\"2\" halign=\"left\">COLEMPLNUM</th>\n      <th>...</th>\n      <th colspan=\"2\" halign=\"left\">UNEEMPLNUM</th>\n      <th colspan=\"4\" halign=\"left\">UNENUM</th>\n      <th colspan=\"4\" halign=\"left\">WEBSITSIGN</th>\n    </tr>\n    <tr>\n      <th>ANCHEYEAR</th>\n      <th>2015.0</th>\n      <th>2016.0</th>\n      <th>2017.0</th>\n      <th>2018.0</th>\n      <th>2015.0</th>\n      <th>2016.0</th>\n      <th>2017.0</th>\n      <th>2018.0</th>\n      <th>2015.0</th>\n      <th>2016.0</th>\n      <th>...</th>\n      <th>2017.0</th>\n      <th>2018.0</th>\n      <th>2015.0</th>\n      <th>2016.0</th>\n      <th>2017.0</th>\n      <th>2018.0</th>\n      <th>2015.0</th>\n      <th>2016.0</th>\n      <th>2017.0</th>\n      <th>2018.0</th>\n    </tr>\n    <tr>\n      <th>id</th>\n      <th></th>\n      <th></th>\n      <th></th>\n      <th></th>\n      <th></th>\n      <th></th>\n      <th></th>\n      <th></th>\n      <th></th>\n      <th></th>\n      <th></th>\n      <th></th>\n      <th></th>\n      <th></th>\n      <th></th>\n      <th></th>\n      <th></th>\n      <th></th>\n      <th></th>\n      <th></th>\n      <th></th>\n    </tr>\n  </thead>\n  <tbody>\n    <tr>\n      <th>175ebe5f059ec05007223e9af0a48b885f4cbfa833d93eed</th>\n      <td>NaN</td>\n      <td>NaN</td>\n      <td>NaN</td>\n      <td>NaN</td>\n      <td>NaN</td>\n      <td>NaN</td>\n      <td>NaN</td>\n      <td>NaN</td>\n      <td>0.0</td>\n      <td>0.0</td>\n      <td>...</td>\n      <td>NaN</td>\n      <td>NaN</td>\n      <td>0.0</td>\n      <td>0.0</td>\n      <td>NaN</td>\n      <td>NaN</td>\n      <td>2.0</td>\n      <td>2.0</td>\n      <td>2.0</td>\n      <td>2.0</td>\n    </tr>\n    <tr>\n      <th>175ebe5f059ec05036d901021be6da41057ae3ee1fe6b8bb</th>\n      <td>NaN</td>\n      <td>NaN</td>\n      <td>NaN</td>\n      <td>NaN</td>\n      <td>NaN</td>\n      <td>NaN</td>\n      <td>NaN</td>\n      <td>NaN</td>\n      <td>10.0</td>\n      <td>10.0</td>\n      <td>...</td>\n      <td>0.0</td>\n      <td>0.0</td>\n      <td>0.0</td>\n      <td>0.0</td>\n      <td>0.0</td>\n      <td>0.0</td>\n      <td>1.0</td>\n      <td>1.0</td>\n      <td>1.0</td>\n      <td>1.0</td>\n    </tr>\n    <tr>\n      <th>175ebe5f059ec050efe07058fc35890a2b8858a6795a2e24</th>\n      <td>0.0</td>\n      <td>NaN</td>\n      <td>NaN</td>\n      <td>NaN</td>\n      <td>0.0</td>\n      <td>NaN</td>\n      <td>NaN</td>\n      <td>NaN</td>\n      <td>0.0</td>\n      <td>25.0</td>\n      <td>...</td>\n      <td>2.0</td>\n      <td>0.0</td>\n      <td>0.0</td>\n      <td>0.0</td>\n      <td>0.0</td>\n      <td>0.0</td>\n      <td>0.0</td>\n      <td>2.0</td>\n      <td>2.0</td>\n      <td>2.0</td>\n    </tr>\n    <tr>\n      <th>216bd2aaf4d0792406c041069b786b3bcb5baa4cf80d5987</th>\n      <td>0.0</td>\n      <td>0.0</td>\n      <td>0.0</td>\n      <td>NaN</td>\n      <td>0.0</td>\n      <td>0.0</td>\n      <td>0.0</td>\n      <td>NaN</td>\n      <td>0.0</td>\n      <td>0.0</td>\n      <td>...</td>\n      <td>0.0</td>\n      <td>0.0</td>\n      <td>0.0</td>\n      <td>0.0</td>\n      <td>0.0</td>\n      <td>0.0</td>\n      <td>0.0</td>\n      <td>0.0</td>\n      <td>0.0</td>\n      <td>2.0</td>\n    </tr>\n    <tr>\n      <th>216bd2aaf4d079240c2b8f7bbf3177618ad289f21af0221e</th>\n      <td>NaN</td>\n      <td>NaN</td>\n      <td>NaN</td>\n      <td>NaN</td>\n      <td>NaN</td>\n      <td>NaN</td>\n      <td>NaN</td>\n      <td>NaN</td>\n      <td>0.0</td>\n      <td>0.0</td>\n      <td>...</td>\n      <td>0.0</td>\n      <td>0.0</td>\n      <td>0.0</td>\n      <td>0.0</td>\n      <td>0.0</td>\n      <td>0.0</td>\n      <td>2.0</td>\n      <td>2.0</td>\n      <td>2.0</td>\n      <td>2.0</td>\n    </tr>\n  </tbody>\n</table>\n<p>5 rows × 80 columns</p>\n</div>"
     },
     "metadata": {},
     "execution_count": 7
    }
   ],
   "source": [
    "annual_report_info = a\n",
    "annual_report_info.fillna(-1, inplace=True)\n",
    "annual_report_info = annual_report_info.pivot_table(index='id', columns='ANCHEYEAR').fillna(0)\n",
    "annual_report_info.replace(-1, pd.NA, inplace=True)\n",
    "annual_report_info.head()"
   ]
  },
  {
   "cell_type": "code",
   "execution_count": 8,
   "metadata": {},
   "outputs": [
    {
     "output_type": "execute_result",
     "data": {
      "text/plain": [
       "                                                 id  ANNNEWMEMNUM5  \\\n",
       "0  175ebe5f059ec05007223e9af0a48b885f4cbfa833d93eed            NaN   \n",
       "1  175ebe5f059ec05036d901021be6da41057ae3ee1fe6b8bb            NaN   \n",
       "2  175ebe5f059ec050efe07058fc35890a2b8858a6795a2e24            0.0   \n",
       "3  216bd2aaf4d0792406c041069b786b3bcb5baa4cf80d5987            0.0   \n",
       "4  216bd2aaf4d079240c2b8f7bbf3177618ad289f21af0221e            NaN   \n",
       "\n",
       "   ANNNEWMEMNUM6  ANNNEWMEMNUM7  ANNNEWMEMNUM8  ANNREDMEMNUM5  ANNREDMEMNUM6  \\\n",
       "0            NaN            NaN            NaN            NaN            NaN   \n",
       "1            NaN            NaN            NaN            NaN            NaN   \n",
       "2            NaN            NaN            NaN            0.0            NaN   \n",
       "3            0.0            0.0            NaN            0.0            0.0   \n",
       "4            NaN            NaN            NaN            NaN            NaN   \n",
       "\n",
       "   ANNREDMEMNUM7  ANNREDMEMNUM8  COLEMPLNUM5  ...  UNEEMPLNUM7  UNEEMPLNUM8  \\\n",
       "0            NaN            NaN          0.0  ...          NaN          NaN   \n",
       "1            NaN            NaN         10.0  ...          0.0          0.0   \n",
       "2            NaN            NaN          0.0  ...          2.0          0.0   \n",
       "3            0.0            NaN          0.0  ...          0.0          0.0   \n",
       "4            NaN            NaN          0.0  ...          0.0          0.0   \n",
       "\n",
       "   UNENUM5  UNENUM6  UNENUM7  UNENUM8  WEBSITSIGN5  WEBSITSIGN6  WEBSITSIGN7  \\\n",
       "0      0.0      0.0      NaN      NaN          2.0          2.0          2.0   \n",
       "1      0.0      0.0      0.0      0.0          1.0          1.0          1.0   \n",
       "2      0.0      0.0      0.0      0.0          0.0          2.0          2.0   \n",
       "3      0.0      0.0      0.0      0.0          0.0          0.0          0.0   \n",
       "4      0.0      0.0      0.0      0.0          2.0          2.0          2.0   \n",
       "\n",
       "   WEBSITSIGN8  \n",
       "0          2.0  \n",
       "1          1.0  \n",
       "2          2.0  \n",
       "3          2.0  \n",
       "4          2.0  \n",
       "\n",
       "[5 rows x 81 columns]"
      ],
      "text/html": "<div>\n<style scoped>\n    .dataframe tbody tr th:only-of-type {\n        vertical-align: middle;\n    }\n\n    .dataframe tbody tr th {\n        vertical-align: top;\n    }\n\n    .dataframe thead th {\n        text-align: right;\n    }\n</style>\n<table border=\"1\" class=\"dataframe\">\n  <thead>\n    <tr style=\"text-align: right;\">\n      <th></th>\n      <th>id</th>\n      <th>ANNNEWMEMNUM5</th>\n      <th>ANNNEWMEMNUM6</th>\n      <th>ANNNEWMEMNUM7</th>\n      <th>ANNNEWMEMNUM8</th>\n      <th>ANNREDMEMNUM5</th>\n      <th>ANNREDMEMNUM6</th>\n      <th>ANNREDMEMNUM7</th>\n      <th>ANNREDMEMNUM8</th>\n      <th>COLEMPLNUM5</th>\n      <th>...</th>\n      <th>UNEEMPLNUM7</th>\n      <th>UNEEMPLNUM8</th>\n      <th>UNENUM5</th>\n      <th>UNENUM6</th>\n      <th>UNENUM7</th>\n      <th>UNENUM8</th>\n      <th>WEBSITSIGN5</th>\n      <th>WEBSITSIGN6</th>\n      <th>WEBSITSIGN7</th>\n      <th>WEBSITSIGN8</th>\n    </tr>\n  </thead>\n  <tbody>\n    <tr>\n      <th>0</th>\n      <td>175ebe5f059ec05007223e9af0a48b885f4cbfa833d93eed</td>\n      <td>NaN</td>\n      <td>NaN</td>\n      <td>NaN</td>\n      <td>NaN</td>\n      <td>NaN</td>\n      <td>NaN</td>\n      <td>NaN</td>\n      <td>NaN</td>\n      <td>0.0</td>\n      <td>...</td>\n      <td>NaN</td>\n      <td>NaN</td>\n      <td>0.0</td>\n      <td>0.0</td>\n      <td>NaN</td>\n      <td>NaN</td>\n      <td>2.0</td>\n      <td>2.0</td>\n      <td>2.0</td>\n      <td>2.0</td>\n    </tr>\n    <tr>\n      <th>1</th>\n      <td>175ebe5f059ec05036d901021be6da41057ae3ee1fe6b8bb</td>\n      <td>NaN</td>\n      <td>NaN</td>\n      <td>NaN</td>\n      <td>NaN</td>\n      <td>NaN</td>\n      <td>NaN</td>\n      <td>NaN</td>\n      <td>NaN</td>\n      <td>10.0</td>\n      <td>...</td>\n      <td>0.0</td>\n      <td>0.0</td>\n      <td>0.0</td>\n      <td>0.0</td>\n      <td>0.0</td>\n      <td>0.0</td>\n      <td>1.0</td>\n      <td>1.0</td>\n      <td>1.0</td>\n      <td>1.0</td>\n    </tr>\n    <tr>\n      <th>2</th>\n      <td>175ebe5f059ec050efe07058fc35890a2b8858a6795a2e24</td>\n      <td>0.0</td>\n      <td>NaN</td>\n      <td>NaN</td>\n      <td>NaN</td>\n      <td>0.0</td>\n      <td>NaN</td>\n      <td>NaN</td>\n      <td>NaN</td>\n      <td>0.0</td>\n      <td>...</td>\n      <td>2.0</td>\n      <td>0.0</td>\n      <td>0.0</td>\n      <td>0.0</td>\n      <td>0.0</td>\n      <td>0.0</td>\n      <td>0.0</td>\n      <td>2.0</td>\n      <td>2.0</td>\n      <td>2.0</td>\n    </tr>\n    <tr>\n      <th>3</th>\n      <td>216bd2aaf4d0792406c041069b786b3bcb5baa4cf80d5987</td>\n      <td>0.0</td>\n      <td>0.0</td>\n      <td>0.0</td>\n      <td>NaN</td>\n      <td>0.0</td>\n      <td>0.0</td>\n      <td>0.0</td>\n      <td>NaN</td>\n      <td>0.0</td>\n      <td>...</td>\n      <td>0.0</td>\n      <td>0.0</td>\n      <td>0.0</td>\n      <td>0.0</td>\n      <td>0.0</td>\n      <td>0.0</td>\n      <td>0.0</td>\n      <td>0.0</td>\n      <td>0.0</td>\n      <td>2.0</td>\n    </tr>\n    <tr>\n      <th>4</th>\n      <td>216bd2aaf4d079240c2b8f7bbf3177618ad289f21af0221e</td>\n      <td>NaN</td>\n      <td>NaN</td>\n      <td>NaN</td>\n      <td>NaN</td>\n      <td>NaN</td>\n      <td>NaN</td>\n      <td>NaN</td>\n      <td>NaN</td>\n      <td>0.0</td>\n      <td>...</td>\n      <td>0.0</td>\n      <td>0.0</td>\n      <td>0.0</td>\n      <td>0.0</td>\n      <td>0.0</td>\n      <td>0.0</td>\n      <td>2.0</td>\n      <td>2.0</td>\n      <td>2.0</td>\n      <td>2.0</td>\n    </tr>\n  </tbody>\n</table>\n<p>5 rows × 81 columns</p>\n</div>"
     },
     "metadata": {},
     "execution_count": 8
    }
   ],
   "source": [
    "annual_report_info.reset_index(inplace=True)\n",
    "cols = ['id']\n",
    "cols.extend([str(j[0]) + str(j[1])[3:4] for j in annual_report_info.columns[1:]])\n",
    "annual_report_info.columns = cols\n",
    "annual_report_info.head()"
   ]
  },
  {
   "cell_type": "code",
   "execution_count": 9,
   "metadata": {},
   "outputs": [],
   "source": [
    "annual_report_info.set_index(keys='id', inplace=True)\n",
    "annual_report_info.to_csv(features_dir + 'annual_report_info_.csv')"
   ]
  }
 ]
}