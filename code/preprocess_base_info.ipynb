{
 "cells": [
  {
   "cell_type": "code",
   "execution_count": 1,
   "metadata": {},
   "outputs": [],
   "source": [
    "import datetime\n",
    "import numpy as np\n",
    "import pandas as pd"
   ]
  },
  {
   "cell_type": "code",
   "execution_count": 2,
   "metadata": {},
   "outputs": [],
   "source": [
    "def na_table(x):\n",
    "    na = pd.DataFrame(x.isna().sum())\n",
    "    nna = pd.DataFrame(x.notna().sum())\n",
    "    na.reset_index(inplace=True)\n",
    "    nna.reset_index(inplace=True)\n",
    "    na = na[na[0]>0]\n",
    "    na = na.merge(nna, on='index')\n",
    "    na.columns = ['col', 'isNA', 'notNA']\n",
    "    return na"
   ]
  },
  {
   "cell_type": "code",
   "execution_count": 3,
   "metadata": {},
   "outputs": [
    {
     "output_type": "execute_result",
     "data": {
      "text/plain": [
       "              col   isNA  notNA\n",
       "0      industryco      1  24864\n",
       "1     enttypeitem   8214  16651\n",
       "2            opto  16040   8825\n",
       "3          empnum   5250  19615\n",
       "4        compform  14234  10631\n",
       "5          parnum  22526   2339\n",
       "6          exenum  23487   1378\n",
       "7          opform  15865   9000\n",
       "8      ptbusscope  24865      0\n",
       "9          venind  16428   8437\n",
       "10    enttypeminu  17595   7270\n",
       "11  midpreindcode  24865      0\n",
       "12        protype  24831     34\n",
       "13         regcap    191  24674\n",
       "14         reccap  17781   7084\n",
       "15      forreccap  24638    227\n",
       "16      forregcap  24615    250\n",
       "17         congro  24616    249"
      ],
      "text/html": "<div>\n<style scoped>\n    .dataframe tbody tr th:only-of-type {\n        vertical-align: middle;\n    }\n\n    .dataframe tbody tr th {\n        vertical-align: top;\n    }\n\n    .dataframe thead th {\n        text-align: right;\n    }\n</style>\n<table border=\"1\" class=\"dataframe\">\n  <thead>\n    <tr style=\"text-align: right;\">\n      <th></th>\n      <th>col</th>\n      <th>isNA</th>\n      <th>notNA</th>\n    </tr>\n  </thead>\n  <tbody>\n    <tr>\n      <th>0</th>\n      <td>industryco</td>\n      <td>1</td>\n      <td>24864</td>\n    </tr>\n    <tr>\n      <th>1</th>\n      <td>enttypeitem</td>\n      <td>8214</td>\n      <td>16651</td>\n    </tr>\n    <tr>\n      <th>2</th>\n      <td>opto</td>\n      <td>16040</td>\n      <td>8825</td>\n    </tr>\n    <tr>\n      <th>3</th>\n      <td>empnum</td>\n      <td>5250</td>\n      <td>19615</td>\n    </tr>\n    <tr>\n      <th>4</th>\n      <td>compform</td>\n      <td>14234</td>\n      <td>10631</td>\n    </tr>\n    <tr>\n      <th>5</th>\n      <td>parnum</td>\n      <td>22526</td>\n      <td>2339</td>\n    </tr>\n    <tr>\n      <th>6</th>\n      <td>exenum</td>\n      <td>23487</td>\n      <td>1378</td>\n    </tr>\n    <tr>\n      <th>7</th>\n      <td>opform</td>\n      <td>15865</td>\n      <td>9000</td>\n    </tr>\n    <tr>\n      <th>8</th>\n      <td>ptbusscope</td>\n      <td>24865</td>\n      <td>0</td>\n    </tr>\n    <tr>\n      <th>9</th>\n      <td>venind</td>\n      <td>16428</td>\n      <td>8437</td>\n    </tr>\n    <tr>\n      <th>10</th>\n      <td>enttypeminu</td>\n      <td>17595</td>\n      <td>7270</td>\n    </tr>\n    <tr>\n      <th>11</th>\n      <td>midpreindcode</td>\n      <td>24865</td>\n      <td>0</td>\n    </tr>\n    <tr>\n      <th>12</th>\n      <td>protype</td>\n      <td>24831</td>\n      <td>34</td>\n    </tr>\n    <tr>\n      <th>13</th>\n      <td>regcap</td>\n      <td>191</td>\n      <td>24674</td>\n    </tr>\n    <tr>\n      <th>14</th>\n      <td>reccap</td>\n      <td>17781</td>\n      <td>7084</td>\n    </tr>\n    <tr>\n      <th>15</th>\n      <td>forreccap</td>\n      <td>24638</td>\n      <td>227</td>\n    </tr>\n    <tr>\n      <th>16</th>\n      <td>forregcap</td>\n      <td>24615</td>\n      <td>250</td>\n    </tr>\n    <tr>\n      <th>17</th>\n      <td>congro</td>\n      <td>24616</td>\n      <td>249</td>\n    </tr>\n  </tbody>\n</table>\n</div>"
     },
     "metadata": {},
     "execution_count": 3
    }
   ],
   "source": [
    "data_dir = '../train/'\n",
    "features_dir = '../features/'\n",
    "base_info = pd.read_csv(data_dir + 'base_info.csv',encoding='gbk')\n",
    "base_info.drop_duplicates(inplace=True)\n",
    "na = na_table(base_info)\n",
    "na"
   ]
  },
  {
   "cell_type": "code",
   "execution_count": 4,
   "metadata": {},
   "outputs": [],
   "source": [
    "base_info.industryco.fillna(0, inplace=True)\n",
    "base_info.enttypeitem.fillna(0, inplace=True)\n",
    "base_info.opfrom = pd.to_datetime(base_info.opfrom)\n",
    "base_info.opfrom = base_info.opfrom.apply(lambda x:datetime.datetime.now() - x)\n",
    "base_info.opfrom = base_info.opfrom.apply(lambda x:x.days)\n",
    "base_info.opto = pd.to_datetime(base_info.opto)\n",
    "base_info.opto = base_info.opto.apply(lambda x:datetime.datetime.now() - x)\n",
    "base_info.opto = base_info.opto.apply(lambda x:x.days)\n",
    "# base_info.opto_cat = base_info.opto.isna()"
   ]
  },
  {
   "cell_type": "code",
   "execution_count": 5,
   "metadata": {
    "tags": []
   },
   "outputs": [
    {
     "output_type": "execute_result",
     "data": {
      "text/plain": [
       "              col   isNA  notNA\n",
       "0            opto  16040   8825\n",
       "1          empnum   5250  19615\n",
       "2          parnum  22526   2339\n",
       "3          exenum  23487   1378\n",
       "4      ptbusscope  24865      0\n",
       "5     enttypeminu  17595   7270\n",
       "6   midpreindcode  24865      0\n",
       "7         protype  24831     34\n",
       "8          regcap    186  24679\n",
       "9          reccap  17781   7084\n",
       "10      forreccap  24638    227\n",
       "11      forregcap  24615    250\n",
       "12         congro  24616    249"
      ],
      "text/html": "<div>\n<style scoped>\n    .dataframe tbody tr th:only-of-type {\n        vertical-align: middle;\n    }\n\n    .dataframe tbody tr th {\n        vertical-align: top;\n    }\n\n    .dataframe thead th {\n        text-align: right;\n    }\n</style>\n<table border=\"1\" class=\"dataframe\">\n  <thead>\n    <tr style=\"text-align: right;\">\n      <th></th>\n      <th>col</th>\n      <th>isNA</th>\n      <th>notNA</th>\n    </tr>\n  </thead>\n  <tbody>\n    <tr>\n      <th>0</th>\n      <td>opto</td>\n      <td>16040</td>\n      <td>8825</td>\n    </tr>\n    <tr>\n      <th>1</th>\n      <td>empnum</td>\n      <td>5250</td>\n      <td>19615</td>\n    </tr>\n    <tr>\n      <th>2</th>\n      <td>parnum</td>\n      <td>22526</td>\n      <td>2339</td>\n    </tr>\n    <tr>\n      <th>3</th>\n      <td>exenum</td>\n      <td>23487</td>\n      <td>1378</td>\n    </tr>\n    <tr>\n      <th>4</th>\n      <td>ptbusscope</td>\n      <td>24865</td>\n      <td>0</td>\n    </tr>\n    <tr>\n      <th>5</th>\n      <td>enttypeminu</td>\n      <td>17595</td>\n      <td>7270</td>\n    </tr>\n    <tr>\n      <th>6</th>\n      <td>midpreindcode</td>\n      <td>24865</td>\n      <td>0</td>\n    </tr>\n    <tr>\n      <th>7</th>\n      <td>protype</td>\n      <td>24831</td>\n      <td>34</td>\n    </tr>\n    <tr>\n      <th>8</th>\n      <td>regcap</td>\n      <td>186</td>\n      <td>24679</td>\n    </tr>\n    <tr>\n      <th>9</th>\n      <td>reccap</td>\n      <td>17781</td>\n      <td>7084</td>\n    </tr>\n    <tr>\n      <th>10</th>\n      <td>forreccap</td>\n      <td>24638</td>\n      <td>227</td>\n    </tr>\n    <tr>\n      <th>11</th>\n      <td>forregcap</td>\n      <td>24615</td>\n      <td>250</td>\n    </tr>\n    <tr>\n      <th>12</th>\n      <td>congro</td>\n      <td>24616</td>\n      <td>249</td>\n    </tr>\n  </tbody>\n</table>\n</div>"
     },
     "metadata": {},
     "execution_count": 5
    }
   ],
   "source": [
    "# base_info['opto_cat_'] = base_info.opto.isna()\n",
    "# base_info['empnum_cat_'] = base_info.empnum.isna()\n",
    "# base_info.parnum.fillna(0, inplace=True)\n",
    "# base_info.exenum.fillna(0, inplace=True)\n",
    "# base_info['parnum_cat_'] = base_info.parnum.isna()\n",
    "# base_info['exenum_cat_'] = base_info.exenum.isna()\n",
    "# base_info.enttypeminu.fillna(0, inplace=True)\n",
    "# base_info['reccap_cat_'] = base_info.reccap.isna()\n",
    "# base_info.drop(columns=drop_col, inplace=True)\n",
    "base_info.compform.fillna(0, inplace=True)\n",
    "base_info.opform.fillna(0, inplace=True)\n",
    "base_info.venind.fillna(0, inplace=True)\n",
    "def fill_regcap(x):\n",
    "    try:\n",
    "        x.regcap = temp[temp.enttypeitem == x['enttypeitem']].regcap.values[0]\n",
    "    except IndexError:\n",
    "        pass\n",
    "    return x\n",
    "temp = pd.DataFrame(base_info.groupby('enttypeitem').regcap.mean()).reset_index()\n",
    "base_info = base_info.apply(fill_regcap, axis=1)\n",
    "na_table(base_info)"
   ]
  },
  {
   "cell_type": "code",
   "execution_count": 6,
   "metadata": {},
   "outputs": [],
   "source": [
    "base_info.set_index(keys='id', inplace=True)\n",
    "base_info.to_csv(features_dir + 'base_info.csv')"
   ]
  }
 ],
 "metadata": {
  "kernelspec": {
   "display_name": "Python 3",
   "language": "python",
   "name": "python3"
  },
  "language_info": {
   "codemirror_mode": {
    "name": "ipython",
    "version": 3
   },
   "file_extension": ".py",
   "mimetype": "text/x-python",
   "name": "python",
   "nbconvert_exporter": "python",
   "pygments_lexer": "ipython3",
   "version": "3.8.5-final"
  }
 },
 "nbformat": 4,
 "nbformat_minor": 4
}