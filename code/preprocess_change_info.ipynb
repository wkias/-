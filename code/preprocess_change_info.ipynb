{
 "cells": [
  {
   "cell_type": "code",
   "execution_count": 1,
   "metadata": {},
   "outputs": [],
   "source": [
    "import datetime\n",
    "import pandas as pd"
   ]
  },
  {
   "cell_type": "code",
   "execution_count": 2,
   "metadata": {},
   "outputs": [],
   "source": [
    "def na_table(x):\n",
    "    na = pd.DataFrame(x.isna().sum())\n",
    "    nna = pd.DataFrame(x.notna().sum())\n",
    "    na.reset_index(inplace=True)\n",
    "    nna.reset_index(inplace=True)\n",
    "    na = na[na[0]>0]\n",
    "    na = na.merge(nna, on='index')\n",
    "    na.columns = ['col', 'isNA', 'notNA']\n",
    "    return na"
   ]
  },
  {
   "cell_type": "code",
   "execution_count": 3,
   "metadata": {},
   "outputs": [
    {
     "output_type": "execute_result",
     "data": {
      "text/plain": [
       "Empty DataFrame\n",
       "Columns: [col, isNA, notNA]\n",
       "Index: []"
      ],
      "text/html": "<div>\n<style scoped>\n    .dataframe tbody tr th:only-of-type {\n        vertical-align: middle;\n    }\n\n    .dataframe tbody tr th {\n        vertical-align: top;\n    }\n\n    .dataframe thead th {\n        text-align: right;\n    }\n</style>\n<table border=\"1\" class=\"dataframe\">\n  <thead>\n    <tr style=\"text-align: right;\">\n      <th></th>\n      <th>col</th>\n      <th>isNA</th>\n      <th>notNA</th>\n    </tr>\n  </thead>\n  <tbody>\n  </tbody>\n</table>\n</div>"
     },
     "metadata": {},
     "execution_count": 3
    }
   ],
   "source": [
    "data_dir = '../train/'\n",
    "features_dir = '../features/'\n",
    "change_info = pd.read_csv(data_dir + 'change_info.csv',encoding = 'gbk')\n",
    "change_info.drop_duplicates(inplace=True)\n",
    "na_table(change_info)"
   ]
  },
  {
   "cell_type": "code",
   "execution_count": 4,
   "metadata": {},
   "outputs": [],
   "source": [
    "change_info.drop_duplicates(inplace=True)\n",
    "change_info.bgrq = change_info.bgrq.astype('str')\n",
    "change_info.bgrq = change_info.bgrq.apply(lambda x:x.split('.')[0])\n",
    "change_info.bgrq = pd.to_datetime(change_info.bgrq)"
   ]
  },
  {
   "cell_type": "code",
   "execution_count": 5,
   "metadata": {},
   "outputs": [
    {
     "output_type": "execute_result",
     "data": {
      "text/plain": [
       "                                                 id     years\n",
       "0  47645761dc56bb8c5fae00114b768b5d9b6e917c3aec07c4   1.29589\n",
       "1  9c7fa510616a683058ce97d0bc768a621cd85ab1e87da2a3   3.13973\n",
       "2  59b38c56de3836838082cfcb1a298951abfe15e6940c49ba  0.115068\n",
       "3  e9f7b28ec10e047000d16ab79e1b5e6da434a1697cce7818   5.07671\n",
       "4  f000950527a6feb63ee1ce82bb22ddd1ab8b8fdffa3b91fb   2.90411"
      ],
      "text/html": "<div>\n<style scoped>\n    .dataframe tbody tr th:only-of-type {\n        vertical-align: middle;\n    }\n\n    .dataframe tbody tr th {\n        vertical-align: top;\n    }\n\n    .dataframe thead th {\n        text-align: right;\n    }\n</style>\n<table border=\"1\" class=\"dataframe\">\n  <thead>\n    <tr style=\"text-align: right;\">\n      <th></th>\n      <th>id</th>\n      <th>years</th>\n    </tr>\n  </thead>\n  <tbody>\n    <tr>\n      <th>0</th>\n      <td>47645761dc56bb8c5fae00114b768b5d9b6e917c3aec07c4</td>\n      <td>1.29589</td>\n    </tr>\n    <tr>\n      <th>1</th>\n      <td>9c7fa510616a683058ce97d0bc768a621cd85ab1e87da2a3</td>\n      <td>3.13973</td>\n    </tr>\n    <tr>\n      <th>2</th>\n      <td>59b38c56de3836838082cfcb1a298951abfe15e6940c49ba</td>\n      <td>0.115068</td>\n    </tr>\n    <tr>\n      <th>3</th>\n      <td>e9f7b28ec10e047000d16ab79e1b5e6da434a1697cce7818</td>\n      <td>5.07671</td>\n    </tr>\n    <tr>\n      <th>4</th>\n      <td>f000950527a6feb63ee1ce82bb22ddd1ab8b8fdffa3b91fb</td>\n      <td>2.90411</td>\n    </tr>\n  </tbody>\n</table>\n</div>"
     },
     "metadata": {},
     "execution_count": 5
    }
   ],
   "source": [
    "base_info = pd.read_csv(data_dir + 'base_info.csv',encoding='gbk')\n",
    "base_info.drop_duplicates(inplace=True)\n",
    "base_info.opfrom = pd.to_datetime(base_info.opfrom)\n",
    "base_info.opfrom = base_info.opfrom.apply(lambda x:datetime.datetime.now() - x)\n",
    "base_info.opfrom = base_info.opfrom.apply(lambda x:x.days/365)\n",
    "base_info = pd.DataFrame([base_info.id, base_info.opfrom]).T\n",
    "base_info.columns = ['id', 'years']\n",
    "base_info.head()"
   ]
  },
  {
   "cell_type": "code",
   "execution_count": 6,
   "metadata": {},
   "outputs": [
    {
     "output_type": "execute_result",
     "data": {
      "text/plain": [
       "                                                 id  year\n",
       "0  9c7fa510616a683058ce97d0bc768a621cd85ab1e87da2a3  2019\n",
       "1  9c7fa510616a683058ce97d0bc768a621cd85ab1e87da2a3  2019\n",
       "2  e9f7b28ec10e047000d16ab79e1b5e6da434a1697cce7818  2017\n",
       "3  e9f7b28ec10e047000d16ab79e1b5e6da434a1697cce7818  2017\n",
       "4  e9f7b28ec10e047000d16ab79e1b5e6da434a1697cce7818  2017"
      ],
      "text/html": "<div>\n<style scoped>\n    .dataframe tbody tr th:only-of-type {\n        vertical-align: middle;\n    }\n\n    .dataframe tbody tr th {\n        vertical-align: top;\n    }\n\n    .dataframe thead th {\n        text-align: right;\n    }\n</style>\n<table border=\"1\" class=\"dataframe\">\n  <thead>\n    <tr style=\"text-align: right;\">\n      <th></th>\n      <th>id</th>\n      <th>year</th>\n    </tr>\n  </thead>\n  <tbody>\n    <tr>\n      <th>0</th>\n      <td>9c7fa510616a683058ce97d0bc768a621cd85ab1e87da2a3</td>\n      <td>2019</td>\n    </tr>\n    <tr>\n      <th>1</th>\n      <td>9c7fa510616a683058ce97d0bc768a621cd85ab1e87da2a3</td>\n      <td>2019</td>\n    </tr>\n    <tr>\n      <th>2</th>\n      <td>e9f7b28ec10e047000d16ab79e1b5e6da434a1697cce7818</td>\n      <td>2017</td>\n    </tr>\n    <tr>\n      <th>3</th>\n      <td>e9f7b28ec10e047000d16ab79e1b5e6da434a1697cce7818</td>\n      <td>2017</td>\n    </tr>\n    <tr>\n      <th>4</th>\n      <td>e9f7b28ec10e047000d16ab79e1b5e6da434a1697cce7818</td>\n      <td>2017</td>\n    </tr>\n  </tbody>\n</table>\n</div>"
     },
     "metadata": {},
     "execution_count": 6
    }
   ],
   "source": [
    "change_info['year'] = change_info.bgrq.apply(lambda x:x.year)\n",
    "# change_info['month'] = change_info.bgrq.apply(lambda x:x.month)\n",
    "# change_info['day'] = change_info.bgrq.apply(lambda x:x.day)\n",
    "change_info.drop(columns=['bgxmdm', 'bgq', 'bgh', 'bgrq'], inplace=True)\n",
    "change_info.head()"
   ]
  },
  {
   "cell_type": "code",
   "execution_count": 7,
   "metadata": {},
   "outputs": [
    {
     "output_type": "execute_result",
     "data": {
      "text/plain": [
       "                                                 id  change avg_change\n",
       "0  516ab81418ed215d70d2992c79fb2c89f9bfd197e74ff49b      57    13.9257\n",
       "1  f000950527a6feb6e856468300290e200429d5633a98e6e4      51     2.5064\n",
       "2  f000950527a6feb68bfd4bea2542528d5c680ab0c989b1e9      51    2.76433\n",
       "3  f000950527a6feb69ae213e665a842c1e52002192fd39291      51    5.36301\n",
       "4  f000950527a6feb6a1ea5fcade7c775a1dc94bd7b289d3f0      49    1.92291"
      ],
      "text/html": "<div>\n<style scoped>\n    .dataframe tbody tr th:only-of-type {\n        vertical-align: middle;\n    }\n\n    .dataframe tbody tr th {\n        vertical-align: top;\n    }\n\n    .dataframe thead th {\n        text-align: right;\n    }\n</style>\n<table border=\"1\" class=\"dataframe\">\n  <thead>\n    <tr style=\"text-align: right;\">\n      <th></th>\n      <th>id</th>\n      <th>change</th>\n      <th>avg_change</th>\n    </tr>\n  </thead>\n  <tbody>\n    <tr>\n      <th>0</th>\n      <td>516ab81418ed215d70d2992c79fb2c89f9bfd197e74ff49b</td>\n      <td>57</td>\n      <td>13.9257</td>\n    </tr>\n    <tr>\n      <th>1</th>\n      <td>f000950527a6feb6e856468300290e200429d5633a98e6e4</td>\n      <td>51</td>\n      <td>2.5064</td>\n    </tr>\n    <tr>\n      <th>2</th>\n      <td>f000950527a6feb68bfd4bea2542528d5c680ab0c989b1e9</td>\n      <td>51</td>\n      <td>2.76433</td>\n    </tr>\n    <tr>\n      <th>3</th>\n      <td>f000950527a6feb69ae213e665a842c1e52002192fd39291</td>\n      <td>51</td>\n      <td>5.36301</td>\n    </tr>\n    <tr>\n      <th>4</th>\n      <td>f000950527a6feb6a1ea5fcade7c775a1dc94bd7b289d3f0</td>\n      <td>49</td>\n      <td>1.92291</td>\n    </tr>\n  </tbody>\n</table>\n</div>"
     },
     "metadata": {},
     "execution_count": 7
    }
   ],
   "source": [
    "change_info = pd.DataFrame(change_info.id.value_counts())\n",
    "change_info.reset_index(inplace=True)\n",
    "change_info.columns = ['id', 'change']\n",
    "change_info = change_info.merge(base_info, on='id')\n",
    "change_info['avg_change'] = change_info.change / change_info.years\n",
    "change_info.drop(columns='years', inplace=True)\n",
    "change_info.head()"
   ]
  },
  {
   "cell_type": "code",
   "execution_count": 8,
   "metadata": {},
   "outputs": [],
   "source": [
    "change_info.set_index(keys='id', inplace=True)\n",
    "change_info.to_csv(features_dir + 'change_info.csv')"
   ]
  }
 ],
 "metadata": {
  "kernelspec": {
   "display_name": "Python 3",
   "language": "python",
   "name": "python3"
  },
  "language_info": {
   "codemirror_mode": {
    "name": "ipython",
    "version": 3
   },
   "file_extension": ".py",
   "mimetype": "text/x-python",
   "name": "python",
   "nbconvert_exporter": "python",
   "pygments_lexer": "ipython3",
   "version": "3.8.5-final"
  }
 },
 "nbformat": 4,
 "nbformat_minor": 4
}