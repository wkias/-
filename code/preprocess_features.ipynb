{
 "metadata": {
  "language_info": {
   "codemirror_mode": {
    "name": "ipython",
    "version": 3
   },
   "file_extension": ".py",
   "mimetype": "text/x-python",
   "name": "python",
   "nbconvert_exporter": "python",
   "pygments_lexer": "ipython3",
   "version": "3.8.5-final"
  },
  "orig_nbformat": 2,
  "kernelspec": {
   "name": "Python 3.8.5 64-bit ('w': conda)",
   "display_name": "Python 3.8.5 64-bit ('w': conda)",
   "metadata": {
    "interpreter": {
     "hash": "676aedceea7fc84534537127a7fbae2014c13e8cc8da94ff465a8c09804ac359"
    }
   }
  }
 },
 "nbformat": 4,
 "nbformat_minor": 2,
 "cells": [
  {
   "cell_type": "code",
   "execution_count": 1,
   "metadata": {},
   "outputs": [],
   "source": [
    "import pandas as pd"
   ]
  },
  {
   "cell_type": "code",
   "execution_count": 2,
   "metadata": {},
   "outputs": [],
   "source": [
    "def na_table(x):\n",
    "    na = pd.DataFrame(x.isna().sum())\n",
    "    nna = pd.DataFrame(x.notna().sum())\n",
    "    na.reset_index(inplace=True)\n",
    "    nna.reset_index(inplace=True)\n",
    "    na = na[na[0]>0]\n",
    "    na = na.merge(nna, on='index')\n",
    "    na.columns = ['col', 'isNA', 'notNA']\n",
    "    return na"
   ]
  },
  {
   "cell_type": "code",
   "execution_count": 3,
   "metadata": {},
   "outputs": [],
   "source": [
    "features_dir = '../features/'\n",
    "# annual_report_info = pd.read_csv(features_dir + 'annual_report_info.csv')\n",
    "annual_report_info_ = pd.read_csv(features_dir + 'annual_report_info_.csv')\n",
    "base_info = pd.read_csv(features_dir + 'base_info.csv')\n",
    "change_info = pd.read_csv(features_dir + 'change_info.csv')\n",
    "entprise_info = pd.read_csv(features_dir + 'entprise_info.csv')\n",
    "news_info = pd.read_csv(features_dir + 'news_info.csv')\n",
    "other_info = pd.read_csv(features_dir + 'other_info.csv')\n",
    "tax_info = pd.read_csv(features_dir + 'tax_info.csv')\n",
    "# tax_info_ = pd.read_csv(features_dir + 'tax_info_.csv')"
   ]
  },
  {
   "cell_type": "code",
   "execution_count": 4,
   "metadata": {},
   "outputs": [],
   "source": [
    "features = base_info.copy()\n",
    "if 'annual_report_info' in locals().keys():\n",
    "    features = features.merge(annual_report_info, on='id', how='left')\n",
    "if 'annual_report_info_' in locals().keys():\n",
    "    features = features.merge(annual_report_info_, on='id', how='left')\n",
    "if 'change_info' in locals().keys():\n",
    "    features = features.merge(change_info, on='id', how='left')\n",
    "if 'news_info' in locals().keys():\n",
    "    features = features.merge(news_info, on='id', how='left')\n",
    "if 'other_info' in locals().keys():\n",
    "    features = features.merge(other_info, on='id', how='left')\n",
    "if 'tax_info' in locals().keys():\n",
    "    features = features.merge(tax_info, on='id', how='left')\n",
    "    features['tax_cat_'] = features.TAX_AMOUNT.isna()\n",
    "if 'tax_info_' in locals().keys():\n",
    "    features = features.merge(tax_info_, on='id', how='left')\n",
    "    features['tax_cat_'] = features.TAX_AMOUNT.isna()\n",
    "del features['opscope']"
   ]
  },
  {
   "cell_type": "code",
   "execution_count": 5,
   "metadata": {},
   "outputs": [
    {
     "output_type": "stream",
     "name": "stdout",
     "text": [
      "(24865, 131)\n"
     ]
    },
    {
     "output_type": "execute_result",
     "data": {
      "text/plain": [
       "                col   isNA  notNA\n",
       "0              opto  16040   8825\n",
       "1            empnum   5250  19615\n",
       "2            parnum  22526   2339\n",
       "3            exenum  23487   1378\n",
       "4        ptbusscope  24865      0\n",
       "..              ...    ...    ...\n",
       "106  TAXATION_BASIS  24057    808\n",
       "107        TAX_RATE  24057    808\n",
       "108       DEDUCTION  24057    808\n",
       "109      TAX_AMOUNT  24057    808\n",
       "110             gap  24057    808\n",
       "\n",
       "[111 rows x 3 columns]"
      ],
      "text/html": "<div>\n<style scoped>\n    .dataframe tbody tr th:only-of-type {\n        vertical-align: middle;\n    }\n\n    .dataframe tbody tr th {\n        vertical-align: top;\n    }\n\n    .dataframe thead th {\n        text-align: right;\n    }\n</style>\n<table border=\"1\" class=\"dataframe\">\n  <thead>\n    <tr style=\"text-align: right;\">\n      <th></th>\n      <th>col</th>\n      <th>isNA</th>\n      <th>notNA</th>\n    </tr>\n  </thead>\n  <tbody>\n    <tr>\n      <th>0</th>\n      <td>opto</td>\n      <td>16040</td>\n      <td>8825</td>\n    </tr>\n    <tr>\n      <th>1</th>\n      <td>empnum</td>\n      <td>5250</td>\n      <td>19615</td>\n    </tr>\n    <tr>\n      <th>2</th>\n      <td>parnum</td>\n      <td>22526</td>\n      <td>2339</td>\n    </tr>\n    <tr>\n      <th>3</th>\n      <td>exenum</td>\n      <td>23487</td>\n      <td>1378</td>\n    </tr>\n    <tr>\n      <th>4</th>\n      <td>ptbusscope</td>\n      <td>24865</td>\n      <td>0</td>\n    </tr>\n    <tr>\n      <th>...</th>\n      <td>...</td>\n      <td>...</td>\n      <td>...</td>\n    </tr>\n    <tr>\n      <th>106</th>\n      <td>TAXATION_BASIS</td>\n      <td>24057</td>\n      <td>808</td>\n    </tr>\n    <tr>\n      <th>107</th>\n      <td>TAX_RATE</td>\n      <td>24057</td>\n      <td>808</td>\n    </tr>\n    <tr>\n      <th>108</th>\n      <td>DEDUCTION</td>\n      <td>24057</td>\n      <td>808</td>\n    </tr>\n    <tr>\n      <th>109</th>\n      <td>TAX_AMOUNT</td>\n      <td>24057</td>\n      <td>808</td>\n    </tr>\n    <tr>\n      <th>110</th>\n      <td>gap</td>\n      <td>24057</td>\n      <td>808</td>\n    </tr>\n  </tbody>\n</table>\n<p>111 rows × 3 columns</p>\n</div>"
     },
     "metadata": {},
     "execution_count": 5
    }
   ],
   "source": [
    "print(features.shape)\n",
    "na = na_table(features)\n",
    "na"
   ]
  },
  {
   "cell_type": "code",
   "execution_count": 6,
   "metadata": {},
   "outputs": [
    {
     "output_type": "execute_result",
     "data": {
      "text/plain": [
       "2066"
      ]
     },
     "metadata": {},
     "execution_count": 6
    }
   ],
   "source": [
    "threshold = 0.3\n",
    "col_names = []\n",
    "for i in (na[na.isNA > threshold * na.shape[0]].col[:-1]):\n",
    "    col_name = i + '_cat_'\n",
    "    if col_name not in features.columns:\n",
    "        col_names.append(col_name)\n",
    "        features[col_name] = features[i].isna()\n",
    "features.drop(columns=na[na.isNA==features.shape[0]].col, inplace=True)\n",
    "open(features_dir + 'cat_cols_expand', 'w').write(str(col_names))"
   ]
  },
  {
   "cell_type": "code",
   "execution_count": 7,
   "metadata": {},
   "outputs": [
    {
     "output_type": "execute_result",
     "data": {
      "text/plain": [
       "     label\n",
       "0.0  13884\n",
       "1.0    981"
      ],
      "text/html": "<div>\n<style scoped>\n    .dataframe tbody tr th:only-of-type {\n        vertical-align: middle;\n    }\n\n    .dataframe tbody tr th {\n        vertical-align: top;\n    }\n\n    .dataframe thead th {\n        text-align: right;\n    }\n</style>\n<table border=\"1\" class=\"dataframe\">\n  <thead>\n    <tr style=\"text-align: right;\">\n      <th></th>\n      <th>label</th>\n    </tr>\n  </thead>\n  <tbody>\n    <tr>\n      <th>0.0</th>\n      <td>13884</td>\n    </tr>\n    <tr>\n      <th>1.0</th>\n      <td>981</td>\n    </tr>\n  </tbody>\n</table>\n</div>"
     },
     "metadata": {},
     "execution_count": 7
    }
   ],
   "source": [
    "features = features.merge(entprise_info, on='id', how='left')\n",
    "pd.DataFrame(features[features.label.notna()].label.value_counts())"
   ]
  },
  {
   "cell_type": "code",
   "execution_count": 8,
   "metadata": {},
   "outputs": [],
   "source": [
    "features.set_index('id', inplace=True)\n",
    "features[features.label.notna()].to_csv(features_dir + 'train_test.csv')\n",
    "features[features.label.isna()].to_csv(features_dir + 'evaluate.csv')"
   ]
  }
 ]
}