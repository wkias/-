{
 "metadata": {
  "language_info": {
   "codemirror_mode": {
    "name": "ipython",
    "version": 3
   },
   "file_extension": ".py",
   "mimetype": "text/x-python",
   "name": "python",
   "nbconvert_exporter": "python",
   "pygments_lexer": "ipython3",
   "version": "3.8.5-final"
  },
  "orig_nbformat": 2,
  "kernelspec": {
   "name": "Python 3.8.5 64-bit ('w': conda)",
   "display_name": "Python 3.8.5 64-bit ('w': conda)",
   "metadata": {
    "interpreter": {
     "hash": "676aedceea7fc84534537127a7fbae2014c13e8cc8da94ff465a8c09804ac359"
    }
   }
  }
 },
 "nbformat": 4,
 "nbformat_minor": 2,
 "cells": [
  {
   "cell_type": "code",
   "execution_count": 2,
   "metadata": {},
   "outputs": [],
   "source": [
    "import os\n",
    "import pandas as pd"
   ]
  },
  {
   "cell_type": "code",
   "execution_count": 2,
   "metadata": {},
   "outputs": [],
   "source": [
    "def na_table(x):\n",
    "    na = pd.DataFrame(x.isna().sum())\n",
    "    nna = pd.DataFrame(x.notna().sum())\n",
    "    na.reset_index(inplace=True)\n",
    "    nna.reset_index(inplace=True)\n",
    "    na = na[na[0]>0]\n",
    "    na = na.merge(nna, on='index')\n",
    "    na.columns = ['col', 'isNA', 'notNA']\n",
    "    return na"
   ]
  },
  {
   "cell_type": "code",
   "execution_count": 6,
   "metadata": {},
   "outputs": [
    {
     "output_type": "execute_result",
     "data": {
      "text/plain": [
       "                                                     id  oplocdistrict  \\\n",
       "0      47645761dc56bb8c5fae00114b768b5d9b6e917c3aec07c4         340223   \n",
       "1      9c7fa510616a683058ce97d0bc768a621cd85ab1e87da2a3         340222   \n",
       "2      59b38c56de3836838082cfcb1a298951abfe15e6940c49ba         340202   \n",
       "3      e9f7b28ec10e047000d16ab79e1b5e6da434a1697cce7818         340221   \n",
       "4      f000950527a6feb63ee1ce82bb22ddd1ab8b8fdffa3b91fb         340202   \n",
       "...                                                 ...            ...   \n",
       "24860  f1c1045b13d18329a2bd99d2a7e2227688c0d69bf1d1e325         340225   \n",
       "24861  f000950527a6feb6bde38216d7cbbf32e66d3a3a96d4dbda         340207   \n",
       "24862  da8691b210adb3f65b43370d3a362f4aa1d3b16b5ba0c9d7         340207   \n",
       "24863  516ab81418ed215dcbbf0614a7b929e691f8eed153d7bb31         340225   \n",
       "24864  9c7fa510616a68303d3427d4bfd4b0cf3e4843f2bf3f637a         340222   \n",
       "\n",
       "      industryphy  industryco  \\\n",
       "0               M      7513.0   \n",
       "1               O      8090.0   \n",
       "2               R      9053.0   \n",
       "3               L      7212.0   \n",
       "4               R      8810.0   \n",
       "...           ...         ...   \n",
       "24860           O      8131.0   \n",
       "24861           J      6790.0   \n",
       "24862           O      8111.0   \n",
       "24863           O      8090.0   \n",
       "24864           N      7830.0   \n",
       "\n",
       "                                                     dom  enttype  \\\n",
       "0      31487d8f256f16bd6244b7251be2ebb24d1db51663c654...     1100   \n",
       "1      31487d8f256f16bd6244b7251be2ebb27b17bdfd95c8f3...     9600   \n",
       "2      31487d8f256f16bd6244b7251be2ebb2ae36cd652943e8...     1100   \n",
       "3      746df9aaed8578571760c563abe882c8ba25209fc6d5db...     4500   \n",
       "4      31487d8f256f16bd6244b7251be2ebb2ae36cd652943e8...     1100   \n",
       "...                                                  ...      ...   \n",
       "24860  31487d8f256f16bd6244b7251be2ebb227ca54d864983f...     9600   \n",
       "24861  31487d8f256f16bdb06579d53b25cbb6c4a6c18662c495...     4500   \n",
       "24862  ca213febe80e171c3b9617e39b49d64e4a4abca4f2d760...     9600   \n",
       "24863  31487d8f256f16bd6244b7251be2ebb227ca54d864983f...     1100   \n",
       "24864  31487d8f256f16bd6244b7251be2ebb27b17bdfd95c8f3...     9600   \n",
       "\n",
       "       enttypeitem  opfrom     opto  state  ...  tax246  tax247  tax248  \\\n",
       "0           1150.0     474      NaN      6  ...     NaN     NaN     NaN   \n",
       "1              0.0    1147      NaN      6  ...     NaN     NaN     NaN   \n",
       "2           1150.0      43      NaN      6  ...     NaN     NaN     NaN   \n",
       "3           4540.0    1854      NaN      6  ...     NaN     NaN     NaN   \n",
       "4           1130.0    1061 -17200.0      7  ...     NaN     NaN     NaN   \n",
       "...            ...     ...      ...    ...  ...     ...     ...     ...   \n",
       "24860          0.0    4267      NaN      6  ...     NaN     NaN     NaN   \n",
       "24861       4530.0    1775 -16487.0      6  ...     NaN     NaN     NaN   \n",
       "24862          0.0    3071      NaN      6  ...     NaN     NaN     NaN   \n",
       "24863       1130.0    2933      NaN      7  ...     NaN     NaN     NaN   \n",
       "24864       9600.0    3441      NaN      6  ...     NaN     NaN     NaN   \n",
       "\n",
       "       tax249  tax250  tax251  tax252  tax253  tax254 tax255  \n",
       "0         NaN     NaN     NaN     NaN     NaN     NaN    NaN  \n",
       "1         NaN     NaN     NaN     NaN     NaN     NaN    NaN  \n",
       "2         NaN     NaN     NaN     NaN     NaN     NaN    NaN  \n",
       "3         NaN     NaN     NaN     NaN     NaN     NaN    NaN  \n",
       "4         NaN     NaN     NaN     NaN     NaN     NaN    NaN  \n",
       "...       ...     ...     ...     ...     ...     ...    ...  \n",
       "24860     NaN     NaN     NaN     NaN     NaN     NaN    NaN  \n",
       "24861     NaN     NaN     NaN     NaN     NaN     NaN    NaN  \n",
       "24862     NaN     NaN     NaN     NaN     NaN     NaN    NaN  \n",
       "24863     NaN     NaN     NaN     NaN     NaN     NaN    NaN  \n",
       "24864     NaN     NaN     NaN     NaN     NaN     NaN    NaN  \n",
       "\n",
       "[24865 rows x 410 columns]"
      ],
      "text/html": "<div>\n<style scoped>\n    .dataframe tbody tr th:only-of-type {\n        vertical-align: middle;\n    }\n\n    .dataframe tbody tr th {\n        vertical-align: top;\n    }\n\n    .dataframe thead th {\n        text-align: right;\n    }\n</style>\n<table border=\"1\" class=\"dataframe\">\n  <thead>\n    <tr style=\"text-align: right;\">\n      <th></th>\n      <th>id</th>\n      <th>oplocdistrict</th>\n      <th>industryphy</th>\n      <th>industryco</th>\n      <th>dom</th>\n      <th>enttype</th>\n      <th>enttypeitem</th>\n      <th>opfrom</th>\n      <th>opto</th>\n      <th>state</th>\n      <th>...</th>\n      <th>tax246</th>\n      <th>tax247</th>\n      <th>tax248</th>\n      <th>tax249</th>\n      <th>tax250</th>\n      <th>tax251</th>\n      <th>tax252</th>\n      <th>tax253</th>\n      <th>tax254</th>\n      <th>tax255</th>\n    </tr>\n  </thead>\n  <tbody>\n    <tr>\n      <th>0</th>\n      <td>47645761dc56bb8c5fae00114b768b5d9b6e917c3aec07c4</td>\n      <td>340223</td>\n      <td>M</td>\n      <td>7513.0</td>\n      <td>31487d8f256f16bd6244b7251be2ebb24d1db51663c654...</td>\n      <td>1100</td>\n      <td>1150.0</td>\n      <td>474</td>\n      <td>NaN</td>\n      <td>6</td>\n      <td>...</td>\n      <td>NaN</td>\n      <td>NaN</td>\n      <td>NaN</td>\n      <td>NaN</td>\n      <td>NaN</td>\n      <td>NaN</td>\n      <td>NaN</td>\n      <td>NaN</td>\n      <td>NaN</td>\n      <td>NaN</td>\n    </tr>\n    <tr>\n      <th>1</th>\n      <td>9c7fa510616a683058ce97d0bc768a621cd85ab1e87da2a3</td>\n      <td>340222</td>\n      <td>O</td>\n      <td>8090.0</td>\n      <td>31487d8f256f16bd6244b7251be2ebb27b17bdfd95c8f3...</td>\n      <td>9600</td>\n      <td>0.0</td>\n      <td>1147</td>\n      <td>NaN</td>\n      <td>6</td>\n      <td>...</td>\n      <td>NaN</td>\n      <td>NaN</td>\n      <td>NaN</td>\n      <td>NaN</td>\n      <td>NaN</td>\n      <td>NaN</td>\n      <td>NaN</td>\n      <td>NaN</td>\n      <td>NaN</td>\n      <td>NaN</td>\n    </tr>\n    <tr>\n      <th>2</th>\n      <td>59b38c56de3836838082cfcb1a298951abfe15e6940c49ba</td>\n      <td>340202</td>\n      <td>R</td>\n      <td>9053.0</td>\n      <td>31487d8f256f16bd6244b7251be2ebb2ae36cd652943e8...</td>\n      <td>1100</td>\n      <td>1150.0</td>\n      <td>43</td>\n      <td>NaN</td>\n      <td>6</td>\n      <td>...</td>\n      <td>NaN</td>\n      <td>NaN</td>\n      <td>NaN</td>\n      <td>NaN</td>\n      <td>NaN</td>\n      <td>NaN</td>\n      <td>NaN</td>\n      <td>NaN</td>\n      <td>NaN</td>\n      <td>NaN</td>\n    </tr>\n    <tr>\n      <th>3</th>\n      <td>e9f7b28ec10e047000d16ab79e1b5e6da434a1697cce7818</td>\n      <td>340221</td>\n      <td>L</td>\n      <td>7212.0</td>\n      <td>746df9aaed8578571760c563abe882c8ba25209fc6d5db...</td>\n      <td>4500</td>\n      <td>4540.0</td>\n      <td>1854</td>\n      <td>NaN</td>\n      <td>6</td>\n      <td>...</td>\n      <td>NaN</td>\n      <td>NaN</td>\n      <td>NaN</td>\n      <td>NaN</td>\n      <td>NaN</td>\n      <td>NaN</td>\n      <td>NaN</td>\n      <td>NaN</td>\n      <td>NaN</td>\n      <td>NaN</td>\n    </tr>\n    <tr>\n      <th>4</th>\n      <td>f000950527a6feb63ee1ce82bb22ddd1ab8b8fdffa3b91fb</td>\n      <td>340202</td>\n      <td>R</td>\n      <td>8810.0</td>\n      <td>31487d8f256f16bd6244b7251be2ebb2ae36cd652943e8...</td>\n      <td>1100</td>\n      <td>1130.0</td>\n      <td>1061</td>\n      <td>-17200.0</td>\n      <td>7</td>\n      <td>...</td>\n      <td>NaN</td>\n      <td>NaN</td>\n      <td>NaN</td>\n      <td>NaN</td>\n      <td>NaN</td>\n      <td>NaN</td>\n      <td>NaN</td>\n      <td>NaN</td>\n      <td>NaN</td>\n      <td>NaN</td>\n    </tr>\n    <tr>\n      <th>...</th>\n      <td>...</td>\n      <td>...</td>\n      <td>...</td>\n      <td>...</td>\n      <td>...</td>\n      <td>...</td>\n      <td>...</td>\n      <td>...</td>\n      <td>...</td>\n      <td>...</td>\n      <td>...</td>\n      <td>...</td>\n      <td>...</td>\n      <td>...</td>\n      <td>...</td>\n      <td>...</td>\n      <td>...</td>\n      <td>...</td>\n      <td>...</td>\n      <td>...</td>\n      <td>...</td>\n    </tr>\n    <tr>\n      <th>24860</th>\n      <td>f1c1045b13d18329a2bd99d2a7e2227688c0d69bf1d1e325</td>\n      <td>340225</td>\n      <td>O</td>\n      <td>8131.0</td>\n      <td>31487d8f256f16bd6244b7251be2ebb227ca54d864983f...</td>\n      <td>9600</td>\n      <td>0.0</td>\n      <td>4267</td>\n      <td>NaN</td>\n      <td>6</td>\n      <td>...</td>\n      <td>NaN</td>\n      <td>NaN</td>\n      <td>NaN</td>\n      <td>NaN</td>\n      <td>NaN</td>\n      <td>NaN</td>\n      <td>NaN</td>\n      <td>NaN</td>\n      <td>NaN</td>\n      <td>NaN</td>\n    </tr>\n    <tr>\n      <th>24861</th>\n      <td>f000950527a6feb6bde38216d7cbbf32e66d3a3a96d4dbda</td>\n      <td>340207</td>\n      <td>J</td>\n      <td>6790.0</td>\n      <td>31487d8f256f16bdb06579d53b25cbb6c4a6c18662c495...</td>\n      <td>4500</td>\n      <td>4530.0</td>\n      <td>1775</td>\n      <td>-16487.0</td>\n      <td>6</td>\n      <td>...</td>\n      <td>NaN</td>\n      <td>NaN</td>\n      <td>NaN</td>\n      <td>NaN</td>\n      <td>NaN</td>\n      <td>NaN</td>\n      <td>NaN</td>\n      <td>NaN</td>\n      <td>NaN</td>\n      <td>NaN</td>\n    </tr>\n    <tr>\n      <th>24862</th>\n      <td>da8691b210adb3f65b43370d3a362f4aa1d3b16b5ba0c9d7</td>\n      <td>340207</td>\n      <td>O</td>\n      <td>8111.0</td>\n      <td>ca213febe80e171c3b9617e39b49d64e4a4abca4f2d760...</td>\n      <td>9600</td>\n      <td>0.0</td>\n      <td>3071</td>\n      <td>NaN</td>\n      <td>6</td>\n      <td>...</td>\n      <td>NaN</td>\n      <td>NaN</td>\n      <td>NaN</td>\n      <td>NaN</td>\n      <td>NaN</td>\n      <td>NaN</td>\n      <td>NaN</td>\n      <td>NaN</td>\n      <td>NaN</td>\n      <td>NaN</td>\n    </tr>\n    <tr>\n      <th>24863</th>\n      <td>516ab81418ed215dcbbf0614a7b929e691f8eed153d7bb31</td>\n      <td>340225</td>\n      <td>O</td>\n      <td>8090.0</td>\n      <td>31487d8f256f16bd6244b7251be2ebb227ca54d864983f...</td>\n      <td>1100</td>\n      <td>1130.0</td>\n      <td>2933</td>\n      <td>NaN</td>\n      <td>7</td>\n      <td>...</td>\n      <td>NaN</td>\n      <td>NaN</td>\n      <td>NaN</td>\n      <td>NaN</td>\n      <td>NaN</td>\n      <td>NaN</td>\n      <td>NaN</td>\n      <td>NaN</td>\n      <td>NaN</td>\n      <td>NaN</td>\n    </tr>\n    <tr>\n      <th>24864</th>\n      <td>9c7fa510616a68303d3427d4bfd4b0cf3e4843f2bf3f637a</td>\n      <td>340222</td>\n      <td>N</td>\n      <td>7830.0</td>\n      <td>31487d8f256f16bd6244b7251be2ebb27b17bdfd95c8f3...</td>\n      <td>9600</td>\n      <td>9600.0</td>\n      <td>3441</td>\n      <td>NaN</td>\n      <td>6</td>\n      <td>...</td>\n      <td>NaN</td>\n      <td>NaN</td>\n      <td>NaN</td>\n      <td>NaN</td>\n      <td>NaN</td>\n      <td>NaN</td>\n      <td>NaN</td>\n      <td>NaN</td>\n      <td>NaN</td>\n      <td>NaN</td>\n    </tr>\n  </tbody>\n</table>\n<p>24865 rows × 410 columns</p>\n</div>"
     },
     "metadata": {},
     "execution_count": 6
    }
   ],
   "source": [
    "features"
   ]
  },
  {
   "cell_type": "code",
   "execution_count": 3,
   "metadata": {},
   "outputs": [],
   "source": [
    "features_dir = '../features/'\n",
    "if os.path.exists(features_dir + 'opscope.csv'):\n",
    "    opscope = pd.read_csv(features_dir + 'opscope.csv')\n",
    "annual_report_info = pd.read_csv(features_dir + 'annual_report_info.csv')\n",
    "annual_report_info_ = pd.read_csv(features_dir + 'annual_report_info_.csv')\n",
    "base_info = pd.read_csv(features_dir + 'base_info.csv')\n",
    "change_info = pd.read_csv(features_dir + 'change_info.csv')\n",
    "entprise_info = pd.read_csv(features_dir + 'entprise_info.csv')\n",
    "news_info = pd.read_csv(features_dir + 'news_info.csv')\n",
    "other_info = pd.read_csv(features_dir + 'other_info.csv')\n",
    "tax_info = pd.read_csv(features_dir + 'tax_info.csv')\n",
    "tax_info_ = pd.read_csv(features_dir + 'tax_info_.csv')"
   ]
  },
  {
   "cell_type": "code",
   "execution_count": 5,
   "metadata": {},
   "outputs": [],
   "source": [
    "features = base_info.copy()\n",
    "if 'annual_report_info' in locals().keys():\n",
    "    features = features.merge(annual_report_info, on='id', how='left')\n",
    "if 'annual_report_info_' in locals().keys():\n",
    "    features = features.merge(annual_report_info_, on='id', how='left')\n",
    "if 'opscope' in locals().keys():\n",
    "    features = features.merge(opscope, on='id', how='left')\n",
    "if 'change_info' in locals().keys():\n",
    "    features = features.merge(change_info, on='id', how='left')\n",
    "if 'news_info' in locals().keys():\n",
    "    features = features.merge(news_info, on='id', how='left')\n",
    "if 'other_info' in locals().keys():\n",
    "    features = features.merge(other_info, on='id', how='left')\n",
    "if 'tax_info' in locals().keys():\n",
    "    features = features.merge(tax_info, on='id', how='left')\n",
    "    features['tax_cat_'] = features.TAX_AMOUNT.isna()\n",
    "if 'tax_info_' in locals().keys():\n",
    "    features = features.merge(tax_info_, on='id', how='left')\n",
    "    features['tax_cat_'] = features.TAX_AMOUNT.isna()"
   ]
  },
  {
   "cell_type": "code",
   "execution_count": 5,
   "metadata": {},
   "outputs": [
    {
     "output_type": "stream",
     "name": "stdout",
     "text": [
      "(24865, 410)\n"
     ]
    },
    {
     "output_type": "execute_result",
     "data": {
      "text/plain": [
       "            col   isNA  notNA\n",
       "0          opto  16040   8825\n",
       "1        empnum   5250  19615\n",
       "2        parnum  22526   2339\n",
       "3        exenum  23487   1378\n",
       "4    ptbusscope  24865      0\n",
       "..          ...    ...    ...\n",
       "384      tax251  24057    808\n",
       "385      tax252  24057    808\n",
       "386      tax253  24058    807\n",
       "387      tax254  24058    807\n",
       "388      tax255  24058    807\n",
       "\n",
       "[389 rows x 3 columns]"
      ],
      "text/html": "<div>\n<style scoped>\n    .dataframe tbody tr th:only-of-type {\n        vertical-align: middle;\n    }\n\n    .dataframe tbody tr th {\n        vertical-align: top;\n    }\n\n    .dataframe thead th {\n        text-align: right;\n    }\n</style>\n<table border=\"1\" class=\"dataframe\">\n  <thead>\n    <tr style=\"text-align: right;\">\n      <th></th>\n      <th>col</th>\n      <th>isNA</th>\n      <th>notNA</th>\n    </tr>\n  </thead>\n  <tbody>\n    <tr>\n      <th>0</th>\n      <td>opto</td>\n      <td>16040</td>\n      <td>8825</td>\n    </tr>\n    <tr>\n      <th>1</th>\n      <td>empnum</td>\n      <td>5250</td>\n      <td>19615</td>\n    </tr>\n    <tr>\n      <th>2</th>\n      <td>parnum</td>\n      <td>22526</td>\n      <td>2339</td>\n    </tr>\n    <tr>\n      <th>3</th>\n      <td>exenum</td>\n      <td>23487</td>\n      <td>1378</td>\n    </tr>\n    <tr>\n      <th>4</th>\n      <td>ptbusscope</td>\n      <td>24865</td>\n      <td>0</td>\n    </tr>\n    <tr>\n      <th>...</th>\n      <td>...</td>\n      <td>...</td>\n      <td>...</td>\n    </tr>\n    <tr>\n      <th>384</th>\n      <td>tax251</td>\n      <td>24057</td>\n      <td>808</td>\n    </tr>\n    <tr>\n      <th>385</th>\n      <td>tax252</td>\n      <td>24057</td>\n      <td>808</td>\n    </tr>\n    <tr>\n      <th>386</th>\n      <td>tax253</td>\n      <td>24058</td>\n      <td>807</td>\n    </tr>\n    <tr>\n      <th>387</th>\n      <td>tax254</td>\n      <td>24058</td>\n      <td>807</td>\n    </tr>\n    <tr>\n      <th>388</th>\n      <td>tax255</td>\n      <td>24058</td>\n      <td>807</td>\n    </tr>\n  </tbody>\n</table>\n<p>389 rows × 3 columns</p>\n</div>"
     },
     "metadata": {},
     "execution_count": 5
    }
   ],
   "source": [
    "print(features.shape)\n",
    "na = na_table(features)\n",
    "na"
   ]
  },
  {
   "cell_type": "code",
   "execution_count": 6,
   "metadata": {},
   "outputs": [
    {
     "output_type": "execute_result",
     "data": {
      "text/plain": [
       "6189"
      ]
     },
     "metadata": {},
     "execution_count": 6
    }
   ],
   "source": [
    "threshold = 0.3\n",
    "col_names = []\n",
    "for i in (na[na.isNA > threshold * na.shape[0]].col[:-1]):\n",
    "    col_name = i + '_cat_'\n",
    "    if col_name not in features.columns:\n",
    "        col_names.append(col_name)\n",
    "        features[col_name] = features[i].isna()\n",
    "features.drop(columns=na[na.isNA==features.shape[0]].col, inplace=True)\n",
    "open(features_dir + 'cat_cols_expand', 'w').write(str(col_names))"
   ]
  },
  {
   "cell_type": "code",
   "execution_count": 7,
   "metadata": {},
   "outputs": [
    {
     "output_type": "execute_result",
     "data": {
      "text/plain": [
       "     label\n",
       "0.0  13884\n",
       "1.0    981"
      ],
      "text/html": "<div>\n<style scoped>\n    .dataframe tbody tr th:only-of-type {\n        vertical-align: middle;\n    }\n\n    .dataframe tbody tr th {\n        vertical-align: top;\n    }\n\n    .dataframe thead th {\n        text-align: right;\n    }\n</style>\n<table border=\"1\" class=\"dataframe\">\n  <thead>\n    <tr style=\"text-align: right;\">\n      <th></th>\n      <th>label</th>\n    </tr>\n  </thead>\n  <tbody>\n    <tr>\n      <th>0.0</th>\n      <td>13884</td>\n    </tr>\n    <tr>\n      <th>1.0</th>\n      <td>981</td>\n    </tr>\n  </tbody>\n</table>\n</div>"
     },
     "metadata": {},
     "execution_count": 7
    }
   ],
   "source": [
    "features = features.merge(entprise_info, on='id', how='left')\n",
    "pd.DataFrame(features[features.label.notna()].label.value_counts())"
   ]
  },
  {
   "cell_type": "code",
   "execution_count": 8,
   "metadata": {},
   "outputs": [],
   "source": [
    "features.set_index('id', inplace=True)\n",
    "features[features.label.notna()].to_csv(features_dir + 'train_test.csv')\n",
    "features[features.label.isna()].to_csv(features_dir + 'evaluate.csv')"
   ]
  }
 ]
}