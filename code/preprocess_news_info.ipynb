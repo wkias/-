{
 "cells": [
  {
   "cell_type": "code",
   "execution_count": 1,
   "metadata": {},
   "outputs": [],
   "source": [
    "import datetime\n",
    "import pandas as pd"
   ]
  },
  {
   "cell_type": "code",
   "execution_count": 2,
   "metadata": {},
   "outputs": [],
   "source": [
    "def na_table(x):\n",
    "    na = pd.DataFrame(x.isna().sum())\n",
    "    nna = pd.DataFrame(x.notna().sum())\n",
    "    na.reset_index(inplace=True)\n",
    "    nna.reset_index(inplace=True)\n",
    "    na = na[na[0]>0]\n",
    "    na = na.merge(nna, on='index')\n",
    "    na.columns = ['col', 'isNA', 'notNA']\n",
    "    return na"
   ]
  },
  {
   "cell_type": "code",
   "execution_count": 3,
   "metadata": {},
   "outputs": [
    {
     "output_type": "execute_result",
     "data": {
      "text/plain": [
       "Empty DataFrame\n",
       "Columns: [col, isNA, notNA]\n",
       "Index: []"
      ],
      "text/html": "<div>\n<style scoped>\n    .dataframe tbody tr th:only-of-type {\n        vertical-align: middle;\n    }\n\n    .dataframe tbody tr th {\n        vertical-align: top;\n    }\n\n    .dataframe thead th {\n        text-align: right;\n    }\n</style>\n<table border=\"1\" class=\"dataframe\">\n  <thead>\n    <tr style=\"text-align: right;\">\n      <th></th>\n      <th>col</th>\n      <th>isNA</th>\n      <th>notNA</th>\n    </tr>\n  </thead>\n  <tbody>\n  </tbody>\n</table>\n</div>"
     },
     "metadata": {},
     "execution_count": 3
    }
   ],
   "source": [
    "data_dir = '../train/'\n",
    "features_dir = '../features/'\n",
    "news_info = pd.read_csv(data_dir + 'news_info.csv',encoding = 'gbk')\n",
    "na = na_table(news_info)\n",
    "na"
   ]
  },
  {
   "cell_type": "code",
   "execution_count": 4,
   "metadata": {},
   "outputs": [
    {
     "output_type": "execute_result",
     "data": {
      "text/plain": [
       "                                                 id     years\n",
       "0  47645761dc56bb8c5fae00114b768b5d9b6e917c3aec07c4   1.29589\n",
       "1  9c7fa510616a683058ce97d0bc768a621cd85ab1e87da2a3   3.13973\n",
       "2  59b38c56de3836838082cfcb1a298951abfe15e6940c49ba  0.115068\n",
       "3  e9f7b28ec10e047000d16ab79e1b5e6da434a1697cce7818   5.07671\n",
       "4  f000950527a6feb63ee1ce82bb22ddd1ab8b8fdffa3b91fb   2.90411"
      ],
      "text/html": "<div>\n<style scoped>\n    .dataframe tbody tr th:only-of-type {\n        vertical-align: middle;\n    }\n\n    .dataframe tbody tr th {\n        vertical-align: top;\n    }\n\n    .dataframe thead th {\n        text-align: right;\n    }\n</style>\n<table border=\"1\" class=\"dataframe\">\n  <thead>\n    <tr style=\"text-align: right;\">\n      <th></th>\n      <th>id</th>\n      <th>years</th>\n    </tr>\n  </thead>\n  <tbody>\n    <tr>\n      <th>0</th>\n      <td>47645761dc56bb8c5fae00114b768b5d9b6e917c3aec07c4</td>\n      <td>1.29589</td>\n    </tr>\n    <tr>\n      <th>1</th>\n      <td>9c7fa510616a683058ce97d0bc768a621cd85ab1e87da2a3</td>\n      <td>3.13973</td>\n    </tr>\n    <tr>\n      <th>2</th>\n      <td>59b38c56de3836838082cfcb1a298951abfe15e6940c49ba</td>\n      <td>0.115068</td>\n    </tr>\n    <tr>\n      <th>3</th>\n      <td>e9f7b28ec10e047000d16ab79e1b5e6da434a1697cce7818</td>\n      <td>5.07671</td>\n    </tr>\n    <tr>\n      <th>4</th>\n      <td>f000950527a6feb63ee1ce82bb22ddd1ab8b8fdffa3b91fb</td>\n      <td>2.90411</td>\n    </tr>\n  </tbody>\n</table>\n</div>"
     },
     "metadata": {},
     "execution_count": 4
    }
   ],
   "source": [
    "base_info = pd.read_csv(data_dir + 'base_info.csv',encoding='gbk')\n",
    "base_info.drop_duplicates(inplace=True)\n",
    "base_info.opfrom = pd.to_datetime(base_info.opfrom)\n",
    "base_info.opfrom = base_info.opfrom.apply(lambda x:datetime.datetime.now() - x)\n",
    "base_info.opfrom = base_info.opfrom.apply(lambda x:x.days/365)\n",
    "base_info = pd.DataFrame([base_info.id, base_info.opfrom]).T\n",
    "base_info.columns = ['id', 'years']\n",
    "base_info.head()"
   ]
  },
  {
   "cell_type": "code",
   "execution_count": 5,
   "metadata": {},
   "outputs": [
    {
     "output_type": "execute_result",
     "data": {
      "text/plain": [
       "                                                 id positive_negtive  counts  \\\n",
       "0  09912c34159b1720558a419983a989f1dd2e0ed69a044ca3               中立       6   \n",
       "1  175ebe5f059ec050afbd65251ecdd3b512bfbe5e62d041b0               积极       4   \n",
       "2  175ebe5f059ec050afbd65251ecdd3b512bfbe5e62d041b0               中立       3   \n",
       "3  216bd2aaf4d079240c3ac0b76f0ef4aa355d443880ba78db               积极       2   \n",
       "4  216bd2aaf4d079240c3ac0b76f0ef4aa355d443880ba78db               中立       1   \n",
       "\n",
       "   avg_news  \n",
       "0  1.200000  \n",
       "1  0.444444  \n",
       "2  0.333333  \n",
       "3  2.000000  \n",
       "4  1.000000  "
      ],
      "text/html": "<div>\n<style scoped>\n    .dataframe tbody tr th:only-of-type {\n        vertical-align: middle;\n    }\n\n    .dataframe tbody tr th {\n        vertical-align: top;\n    }\n\n    .dataframe thead th {\n        text-align: right;\n    }\n</style>\n<table border=\"1\" class=\"dataframe\">\n  <thead>\n    <tr style=\"text-align: right;\">\n      <th></th>\n      <th>id</th>\n      <th>positive_negtive</th>\n      <th>counts</th>\n      <th>avg_news</th>\n    </tr>\n  </thead>\n  <tbody>\n    <tr>\n      <th>0</th>\n      <td>09912c34159b1720558a419983a989f1dd2e0ed69a044ca3</td>\n      <td>中立</td>\n      <td>6</td>\n      <td>1.200000</td>\n    </tr>\n    <tr>\n      <th>1</th>\n      <td>175ebe5f059ec050afbd65251ecdd3b512bfbe5e62d041b0</td>\n      <td>积极</td>\n      <td>4</td>\n      <td>0.444444</td>\n    </tr>\n    <tr>\n      <th>2</th>\n      <td>175ebe5f059ec050afbd65251ecdd3b512bfbe5e62d041b0</td>\n      <td>中立</td>\n      <td>3</td>\n      <td>0.333333</td>\n    </tr>\n    <tr>\n      <th>3</th>\n      <td>216bd2aaf4d079240c3ac0b76f0ef4aa355d443880ba78db</td>\n      <td>积极</td>\n      <td>2</td>\n      <td>2.000000</td>\n    </tr>\n    <tr>\n      <th>4</th>\n      <td>216bd2aaf4d079240c3ac0b76f0ef4aa355d443880ba78db</td>\n      <td>中立</td>\n      <td>1</td>\n      <td>1.000000</td>\n    </tr>\n  </tbody>\n</table>\n</div>"
     },
     "metadata": {},
     "execution_count": 5
    }
   ],
   "source": [
    "news_info['year'] = news_info.public_date.apply(lambda x:x.split('-')[0])\n",
    "news_info = pd.DataFrame(news_info.groupby(['id']).apply(lambda x:x.positive_negtive.value_counts()))\n",
    "news_info.reset_index(inplace=True)\n",
    "news_info.columns = ['id', 'positive_negtive', 'counts']\n",
    "news_info = news_info.merge(base_info, on='id')\n",
    "news_info.years =news_info.years.astype('int')\n",
    "news_info['avg_news'] = news_info.counts / news_info.years\n",
    "news_info.drop(columns=['years'], inplace=True)\n",
    "news_info.head()"
   ]
  },
  {
   "cell_type": "code",
   "execution_count": 6,
   "metadata": {},
   "outputs": [
    {
     "output_type": "execute_result",
     "data": {
      "text/plain": [
       "                                                  avg_news            \\\n",
       "positive_negtive                                        中立        消极   \n",
       "id                                                                     \n",
       "09912c34159b1720558a419983a989f1dd2e0ed69a044ca3  1.200000       NaN   \n",
       "175ebe5f059ec050afbd65251ecdd3b512bfbe5e62d041b0  0.333333       NaN   \n",
       "216bd2aaf4d079240c3ac0b76f0ef4aa355d443880ba78db  1.000000       NaN   \n",
       "216bd2aaf4d079240f5823e63d24b44dd2c58e3281b822f6  2.000000       NaN   \n",
       "216bd2aaf4d0792410725ba5e7ca1dc32ce55767372f2030       NaN  0.062500   \n",
       "...                                                    ...       ...   \n",
       "f000950527a6feb6fddefb42e3c3dc1932fc8c5fae14afbb  0.125000       NaN   \n",
       "f000950527a6feb6fe8f4850e9eb04e8ba3fa3b409725ef3  0.222222       NaN   \n",
       "f000950527a6feb6ff749dc50c7bf46b37b74e36ce38d1a4       NaN  0.076923   \n",
       "f000950527a6feb6ff7cdb55f5e64a477c499dd75137ae6b       NaN       NaN   \n",
       "f000950527a6feb6ff839cdf509ebb7631857e6e363fedd6  0.055556  0.055556   \n",
       "\n",
       "                                                           counts            \n",
       "positive_negtive                                        积极     中立   消极   积极  \n",
       "id                                                                           \n",
       "09912c34159b1720558a419983a989f1dd2e0ed69a044ca3       NaN    6.0  NaN  NaN  \n",
       "175ebe5f059ec050afbd65251ecdd3b512bfbe5e62d041b0  0.444444    3.0  NaN  4.0  \n",
       "216bd2aaf4d079240c3ac0b76f0ef4aa355d443880ba78db  2.000000    1.0  NaN  2.0  \n",
       "216bd2aaf4d079240f5823e63d24b44dd2c58e3281b822f6       NaN    2.0  NaN  NaN  \n",
       "216bd2aaf4d0792410725ba5e7ca1dc32ce55767372f2030       NaN    NaN  1.0  NaN  \n",
       "...                                                    ...    ...  ...  ...  \n",
       "f000950527a6feb6fddefb42e3c3dc1932fc8c5fae14afbb       NaN    1.0  NaN  NaN  \n",
       "f000950527a6feb6fe8f4850e9eb04e8ba3fa3b409725ef3  0.777778    2.0  NaN  7.0  \n",
       "f000950527a6feb6ff749dc50c7bf46b37b74e36ce38d1a4       NaN    NaN  1.0  NaN  \n",
       "f000950527a6feb6ff7cdb55f5e64a477c499dd75137ae6b  0.142857    NaN  NaN  2.0  \n",
       "f000950527a6feb6ff839cdf509ebb7631857e6e363fedd6       NaN    1.0  1.0  NaN  \n",
       "\n",
       "[927 rows x 6 columns]"
      ],
      "text/html": "<div>\n<style scoped>\n    .dataframe tbody tr th:only-of-type {\n        vertical-align: middle;\n    }\n\n    .dataframe tbody tr th {\n        vertical-align: top;\n    }\n\n    .dataframe thead tr th {\n        text-align: left;\n    }\n\n    .dataframe thead tr:last-of-type th {\n        text-align: right;\n    }\n</style>\n<table border=\"1\" class=\"dataframe\">\n  <thead>\n    <tr>\n      <th></th>\n      <th colspan=\"3\" halign=\"left\">avg_news</th>\n      <th colspan=\"3\" halign=\"left\">counts</th>\n    </tr>\n    <tr>\n      <th>positive_negtive</th>\n      <th>中立</th>\n      <th>消极</th>\n      <th>积极</th>\n      <th>中立</th>\n      <th>消极</th>\n      <th>积极</th>\n    </tr>\n    <tr>\n      <th>id</th>\n      <th></th>\n      <th></th>\n      <th></th>\n      <th></th>\n      <th></th>\n      <th></th>\n    </tr>\n  </thead>\n  <tbody>\n    <tr>\n      <th>09912c34159b1720558a419983a989f1dd2e0ed69a044ca3</th>\n      <td>1.200000</td>\n      <td>NaN</td>\n      <td>NaN</td>\n      <td>6.0</td>\n      <td>NaN</td>\n      <td>NaN</td>\n    </tr>\n    <tr>\n      <th>175ebe5f059ec050afbd65251ecdd3b512bfbe5e62d041b0</th>\n      <td>0.333333</td>\n      <td>NaN</td>\n      <td>0.444444</td>\n      <td>3.0</td>\n      <td>NaN</td>\n      <td>4.0</td>\n    </tr>\n    <tr>\n      <th>216bd2aaf4d079240c3ac0b76f0ef4aa355d443880ba78db</th>\n      <td>1.000000</td>\n      <td>NaN</td>\n      <td>2.000000</td>\n      <td>1.0</td>\n      <td>NaN</td>\n      <td>2.0</td>\n    </tr>\n    <tr>\n      <th>216bd2aaf4d079240f5823e63d24b44dd2c58e3281b822f6</th>\n      <td>2.000000</td>\n      <td>NaN</td>\n      <td>NaN</td>\n      <td>2.0</td>\n      <td>NaN</td>\n      <td>NaN</td>\n    </tr>\n    <tr>\n      <th>216bd2aaf4d0792410725ba5e7ca1dc32ce55767372f2030</th>\n      <td>NaN</td>\n      <td>0.062500</td>\n      <td>NaN</td>\n      <td>NaN</td>\n      <td>1.0</td>\n      <td>NaN</td>\n    </tr>\n    <tr>\n      <th>...</th>\n      <td>...</td>\n      <td>...</td>\n      <td>...</td>\n      <td>...</td>\n      <td>...</td>\n      <td>...</td>\n    </tr>\n    <tr>\n      <th>f000950527a6feb6fddefb42e3c3dc1932fc8c5fae14afbb</th>\n      <td>0.125000</td>\n      <td>NaN</td>\n      <td>NaN</td>\n      <td>1.0</td>\n      <td>NaN</td>\n      <td>NaN</td>\n    </tr>\n    <tr>\n      <th>f000950527a6feb6fe8f4850e9eb04e8ba3fa3b409725ef3</th>\n      <td>0.222222</td>\n      <td>NaN</td>\n      <td>0.777778</td>\n      <td>2.0</td>\n      <td>NaN</td>\n      <td>7.0</td>\n    </tr>\n    <tr>\n      <th>f000950527a6feb6ff749dc50c7bf46b37b74e36ce38d1a4</th>\n      <td>NaN</td>\n      <td>0.076923</td>\n      <td>NaN</td>\n      <td>NaN</td>\n      <td>1.0</td>\n      <td>NaN</td>\n    </tr>\n    <tr>\n      <th>f000950527a6feb6ff7cdb55f5e64a477c499dd75137ae6b</th>\n      <td>NaN</td>\n      <td>NaN</td>\n      <td>0.142857</td>\n      <td>NaN</td>\n      <td>NaN</td>\n      <td>2.0</td>\n    </tr>\n    <tr>\n      <th>f000950527a6feb6ff839cdf509ebb7631857e6e363fedd6</th>\n      <td>0.055556</td>\n      <td>0.055556</td>\n      <td>NaN</td>\n      <td>1.0</td>\n      <td>1.0</td>\n      <td>NaN</td>\n    </tr>\n  </tbody>\n</table>\n<p>927 rows × 6 columns</p>\n</div>"
     },
     "metadata": {},
     "execution_count": 6
    }
   ],
   "source": [
    "news_info.pivot_table(index='id', columns='positive_negtive')"
   ]
  },
  {
   "cell_type": "code",
   "execution_count": 7,
   "metadata": {},
   "outputs": [
    {
     "output_type": "execute_result",
     "data": {
      "text/plain": [
       "                                                  avg_news                    \\\n",
       "positive_negtive                                        中立      消极        积极   \n",
       "id                                                                             \n",
       "09912c34159b1720558a419983a989f1dd2e0ed69a044ca3  1.200000  0.0000  0.000000   \n",
       "175ebe5f059ec050afbd65251ecdd3b512bfbe5e62d041b0  0.333333  0.0000  0.444444   \n",
       "216bd2aaf4d079240c3ac0b76f0ef4aa355d443880ba78db  1.000000  0.0000  2.000000   \n",
       "216bd2aaf4d079240f5823e63d24b44dd2c58e3281b822f6  2.000000  0.0000  0.000000   \n",
       "216bd2aaf4d0792410725ba5e7ca1dc32ce55767372f2030  0.000000  0.0625  0.000000   \n",
       "\n",
       "                                                 counts            \n",
       "positive_negtive                                     中立   消极   积极  \n",
       "id                                                                 \n",
       "09912c34159b1720558a419983a989f1dd2e0ed69a044ca3    6.0  0.0  0.0  \n",
       "175ebe5f059ec050afbd65251ecdd3b512bfbe5e62d041b0    3.0  0.0  4.0  \n",
       "216bd2aaf4d079240c3ac0b76f0ef4aa355d443880ba78db    1.0  0.0  2.0  \n",
       "216bd2aaf4d079240f5823e63d24b44dd2c58e3281b822f6    2.0  0.0  0.0  \n",
       "216bd2aaf4d0792410725ba5e7ca1dc32ce55767372f2030    0.0  1.0  0.0  "
      ],
      "text/html": "<div>\n<style scoped>\n    .dataframe tbody tr th:only-of-type {\n        vertical-align: middle;\n    }\n\n    .dataframe tbody tr th {\n        vertical-align: top;\n    }\n\n    .dataframe thead tr th {\n        text-align: left;\n    }\n\n    .dataframe thead tr:last-of-type th {\n        text-align: right;\n    }\n</style>\n<table border=\"1\" class=\"dataframe\">\n  <thead>\n    <tr>\n      <th></th>\n      <th colspan=\"3\" halign=\"left\">avg_news</th>\n      <th colspan=\"3\" halign=\"left\">counts</th>\n    </tr>\n    <tr>\n      <th>positive_negtive</th>\n      <th>中立</th>\n      <th>消极</th>\n      <th>积极</th>\n      <th>中立</th>\n      <th>消极</th>\n      <th>积极</th>\n    </tr>\n    <tr>\n      <th>id</th>\n      <th></th>\n      <th></th>\n      <th></th>\n      <th></th>\n      <th></th>\n      <th></th>\n    </tr>\n  </thead>\n  <tbody>\n    <tr>\n      <th>09912c34159b1720558a419983a989f1dd2e0ed69a044ca3</th>\n      <td>1.200000</td>\n      <td>0.0000</td>\n      <td>0.000000</td>\n      <td>6.0</td>\n      <td>0.0</td>\n      <td>0.0</td>\n    </tr>\n    <tr>\n      <th>175ebe5f059ec050afbd65251ecdd3b512bfbe5e62d041b0</th>\n      <td>0.333333</td>\n      <td>0.0000</td>\n      <td>0.444444</td>\n      <td>3.0</td>\n      <td>0.0</td>\n      <td>4.0</td>\n    </tr>\n    <tr>\n      <th>216bd2aaf4d079240c3ac0b76f0ef4aa355d443880ba78db</th>\n      <td>1.000000</td>\n      <td>0.0000</td>\n      <td>2.000000</td>\n      <td>1.0</td>\n      <td>0.0</td>\n      <td>2.0</td>\n    </tr>\n    <tr>\n      <th>216bd2aaf4d079240f5823e63d24b44dd2c58e3281b822f6</th>\n      <td>2.000000</td>\n      <td>0.0000</td>\n      <td>0.000000</td>\n      <td>2.0</td>\n      <td>0.0</td>\n      <td>0.0</td>\n    </tr>\n    <tr>\n      <th>216bd2aaf4d0792410725ba5e7ca1dc32ce55767372f2030</th>\n      <td>0.000000</td>\n      <td>0.0625</td>\n      <td>0.000000</td>\n      <td>0.0</td>\n      <td>1.0</td>\n      <td>0.0</td>\n    </tr>\n  </tbody>\n</table>\n</div>"
     },
     "metadata": {},
     "execution_count": 7
    }
   ],
   "source": [
    "news_info = news_info.pivot_table(index='id', columns='positive_negtive').fillna(0)\n",
    "news_info.head()"
   ]
  },
  {
   "cell_type": "code",
   "execution_count": 8,
   "metadata": {},
   "outputs": [
    {
     "output_type": "execute_result",
     "data": {
      "text/plain": [
       "                                                 id  avg_neu_news  \\\n",
       "0  09912c34159b1720558a419983a989f1dd2e0ed69a044ca3      1.200000   \n",
       "1  175ebe5f059ec050afbd65251ecdd3b512bfbe5e62d041b0      0.333333   \n",
       "2  216bd2aaf4d079240c3ac0b76f0ef4aa355d443880ba78db      1.000000   \n",
       "3  216bd2aaf4d079240f5823e63d24b44dd2c58e3281b822f6      2.000000   \n",
       "4  216bd2aaf4d0792410725ba5e7ca1dc32ce55767372f2030      0.000000   \n",
       "\n",
       "   avg_neg_news  avg_pos_news  neu_news  neg_news  pos_news  \n",
       "0        0.0000      0.000000       6.0       0.0       0.0  \n",
       "1        0.0000      0.444444       3.0       0.0       4.0  \n",
       "2        0.0000      2.000000       1.0       0.0       2.0  \n",
       "3        0.0000      0.000000       2.0       0.0       0.0  \n",
       "4        0.0625      0.000000       0.0       1.0       0.0  "
      ],
      "text/html": "<div>\n<style scoped>\n    .dataframe tbody tr th:only-of-type {\n        vertical-align: middle;\n    }\n\n    .dataframe tbody tr th {\n        vertical-align: top;\n    }\n\n    .dataframe thead th {\n        text-align: right;\n    }\n</style>\n<table border=\"1\" class=\"dataframe\">\n  <thead>\n    <tr style=\"text-align: right;\">\n      <th></th>\n      <th>id</th>\n      <th>avg_neu_news</th>\n      <th>avg_neg_news</th>\n      <th>avg_pos_news</th>\n      <th>neu_news</th>\n      <th>neg_news</th>\n      <th>pos_news</th>\n    </tr>\n  </thead>\n  <tbody>\n    <tr>\n      <th>0</th>\n      <td>09912c34159b1720558a419983a989f1dd2e0ed69a044ca3</td>\n      <td>1.200000</td>\n      <td>0.0000</td>\n      <td>0.000000</td>\n      <td>6.0</td>\n      <td>0.0</td>\n      <td>0.0</td>\n    </tr>\n    <tr>\n      <th>1</th>\n      <td>175ebe5f059ec050afbd65251ecdd3b512bfbe5e62d041b0</td>\n      <td>0.333333</td>\n      <td>0.0000</td>\n      <td>0.444444</td>\n      <td>3.0</td>\n      <td>0.0</td>\n      <td>4.0</td>\n    </tr>\n    <tr>\n      <th>2</th>\n      <td>216bd2aaf4d079240c3ac0b76f0ef4aa355d443880ba78db</td>\n      <td>1.000000</td>\n      <td>0.0000</td>\n      <td>2.000000</td>\n      <td>1.0</td>\n      <td>0.0</td>\n      <td>2.0</td>\n    </tr>\n    <tr>\n      <th>3</th>\n      <td>216bd2aaf4d079240f5823e63d24b44dd2c58e3281b822f6</td>\n      <td>2.000000</td>\n      <td>0.0000</td>\n      <td>0.000000</td>\n      <td>2.0</td>\n      <td>0.0</td>\n      <td>0.0</td>\n    </tr>\n    <tr>\n      <th>4</th>\n      <td>216bd2aaf4d0792410725ba5e7ca1dc32ce55767372f2030</td>\n      <td>0.000000</td>\n      <td>0.0625</td>\n      <td>0.000000</td>\n      <td>0.0</td>\n      <td>1.0</td>\n      <td>0.0</td>\n    </tr>\n  </tbody>\n</table>\n</div>"
     },
     "metadata": {},
     "execution_count": 8
    }
   ],
   "source": [
    "news_info.reset_index(inplace=True)\n",
    "news_info.columns = ['id','avg_neu_news','avg_neg_news','avg_pos_news', 'neu_news','neg_news','pos_news']\n",
    "news_info.head()"
   ]
  },
  {
   "cell_type": "code",
   "execution_count": 9,
   "metadata": {},
   "outputs": [],
   "source": [
    "news_info.set_index(keys='id', inplace=True)\n",
    "news_info.to_csv(features_dir + 'news_info.csv')"
   ]
  }
 ],
 "metadata": {
  "kernelspec": {
   "display_name": "Python 3",
   "language": "python",
   "name": "python3"
  },
  "language_info": {
   "codemirror_mode": {
    "name": "ipython",
    "version": 3
   },
   "file_extension": ".py",
   "mimetype": "text/x-python",
   "name": "python",
   "nbconvert_exporter": "python",
   "pygments_lexer": "ipython3",
   "version": "3.8.5-final"
  }
 },
 "nbformat": 4,
 "nbformat_minor": 4
}