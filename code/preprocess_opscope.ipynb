{
 "metadata": {
  "language_info": {
   "codemirror_mode": {
    "name": "ipython",
    "version": 3
   },
   "file_extension": ".py",
   "mimetype": "text/x-python",
   "name": "python",
   "nbconvert_exporter": "python",
   "pygments_lexer": "ipython3",
   "version": "3.8.5-final"
  },
  "orig_nbformat": 2,
  "kernelspec": {
   "name": "Python 3.8.5 64-bit ('w': conda)",
   "display_name": "Python 3.8.5 64-bit ('w': conda)",
   "metadata": {
    "interpreter": {
     "hash": "676aedceea7fc84534537127a7fbae2014c13e8cc8da94ff465a8c09804ac359"
    }
   }
  }
 },
 "nbformat": 4,
 "nbformat_minor": 2,
 "cells": [
  {
   "cell_type": "code",
   "execution_count": 84,
   "metadata": {},
   "outputs": [],
   "source": [
    "import jieba\n",
    "import pandas as pd\n",
    "from sklearn.pipeline import Pipeline\n",
    "from sklearn.feature_extraction.text import CountVectorizer\n",
    "from sklearn.feature_extraction.text import TfidfTransformer"
   ]
  },
  {
   "cell_type": "code",
   "execution_count": 6,
   "metadata": {},
   "outputs": [],
   "source": [
    "data_dir = '../train/'\n",
    "features_dir = '../features/'\n",
    "opscope = pd.read_csv(data_dir + 'base_info.csv',encoding='gbk')\n",
    "opscope = pd.DataFrame([opscope.id, opscope.opscope]).T"
   ]
  },
  {
   "cell_type": "code",
   "execution_count": 90,
   "metadata": {
    "tags": []
   },
   "outputs": [],
   "source": [
    "vocabulary = ''\n",
    "opscope.opscope = opscope.opscope.apply(lambda x:x.split('（依法须经批准的项目')[0])\n",
    "for i in opscope.opscope:\n",
    "    vocabulary += i\n",
    "for i in set(['，', '。', '：', '；', '（', '）', '、','*', '  ', '(', ')']):\n",
    "    vocabulary = vocabulary.replace(i, ' ')\n",
    "vocabulary = set(vocabulary)"
   ]
  },
  {
   "cell_type": "code",
   "execution_count": 106,
   "metadata": {},
   "outputs": [],
   "source": [
    "def replace(x):\n",
    "    for i in set(['，', '。', '：', '；', '（', '）', '、','*', '(', ')']):\n",
    "        x = x.replace(i, '')\n",
    "    return x\n",
    "\n",
    "def cancats(x):\n",
    "    s = ''\n",
    "    for i in x:\n",
    "        s += i + ' '\n",
    "    return s.replace('  ', ' ').replace('  ', ' ')\n",
    "\n",
    "opscope.opscope = opscope.opscope.apply(lambda x:x.split('（依法须经批准的项目')[0])\n",
    "corpus = opscope.opscope.apply(replace)\n",
    "corpus = corpus.apply(lambda x:jieba.lcut(x))\n",
    "corpus = corpus.apply(cancat)"
   ]
  },
  {
   "cell_type": "code",
   "execution_count": 92,
   "metadata": {},
   "outputs": [],
   "source": [
    "pipe = Pipeline([('count', CountVectorizer(vocabulary=vocabulary)),\n",
    "                  ('tfidf', TfidfTransformer())]).fit(corpus)"
   ]
  },
  {
   "cell_type": "code",
   "execution_count": 112,
   "metadata": {},
   "outputs": [
    {
     "output_type": "execute_result",
     "data": {
      "text/plain": [
       "<42x9952 sparse matrix of type '<class 'numpy.float64'>'\n",
       "\twith 0 stored elements in Compressed Sparse Row format>"
      ]
     },
     "metadata": {},
     "execution_count": 112
    }
   ],
   "source": [
    "pipe.transform(list(corpus[0]))"
   ]
  }
 ]
}