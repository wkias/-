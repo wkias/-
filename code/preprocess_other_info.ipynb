{
 "cells": [
  {
   "cell_type": "code",
   "execution_count": 1,
   "metadata": {},
   "outputs": [],
   "source": [
    "import pandas as pd"
   ]
  },
  {
   "cell_type": "code",
   "execution_count": 2,
   "metadata": {},
   "outputs": [],
   "source": [
    "def na_table(x):\n",
    "    na = pd.DataFrame(x.isna().sum())\n",
    "    nna = pd.DataFrame(x.notna().sum())\n",
    "    na.reset_index(inplace=True)\n",
    "    nna.reset_index(inplace=True)\n",
    "    na = na[na[0]>0]\n",
    "    na = na.merge(nna, on='index')\n",
    "    na.columns = ['col', 'isNA', 'notNA']\n",
    "    return na"
   ]
  },
  {
   "cell_type": "code",
   "execution_count": 3,
   "metadata": {},
   "outputs": [
    {
     "output_type": "execute_result",
     "data": {
      "text/plain": [
       "                  col  isNA  notNA\n",
       "0  legal_judgment_num   884   1006\n",
       "1           brand_num   981    909\n",
       "2          patent_num  1494    396"
      ],
      "text/html": "<div>\n<style scoped>\n    .dataframe tbody tr th:only-of-type {\n        vertical-align: middle;\n    }\n\n    .dataframe tbody tr th {\n        vertical-align: top;\n    }\n\n    .dataframe thead th {\n        text-align: right;\n    }\n</style>\n<table border=\"1\" class=\"dataframe\">\n  <thead>\n    <tr style=\"text-align: right;\">\n      <th></th>\n      <th>col</th>\n      <th>isNA</th>\n      <th>notNA</th>\n    </tr>\n  </thead>\n  <tbody>\n    <tr>\n      <th>0</th>\n      <td>legal_judgment_num</td>\n      <td>884</td>\n      <td>1006</td>\n    </tr>\n    <tr>\n      <th>1</th>\n      <td>brand_num</td>\n      <td>981</td>\n      <td>909</td>\n    </tr>\n    <tr>\n      <th>2</th>\n      <td>patent_num</td>\n      <td>1494</td>\n      <td>396</td>\n    </tr>\n  </tbody>\n</table>\n</div>"
     },
     "metadata": {},
     "execution_count": 3
    }
   ],
   "source": [
    "data_dir = '../train/'\n",
    "features_dir = '../features/'\n",
    "other_info = pd.read_csv(data_dir + 'other_info.csv',encoding = 'gbk')\n",
    "other_info.drop_duplicates(inplace=True)\n",
    "na = na_table(other_info)\n",
    "na"
   ]
  },
  {
   "cell_type": "code",
   "execution_count": 4,
   "metadata": {},
   "outputs": [
    {
     "output_type": "execute_result",
     "data": {
      "text/plain": [
       "                                                 id  legal_judgment_num  \\\n",
       "0  09912c34159b1720558a419983a989f1dd2e0ed69a044ca3                10.0   \n",
       "1  0ba26b418aa50d3ca37396f2819750892b17f0dce3d7493c                 0.0   \n",
       "2  175ebe5f059ec0503eb86987a7b6da7c40c6e69d5b54736f                 4.0   \n",
       "3  175ebe5f059ec050afbd65251ecdd3b512bfbe5e62d041b0                 5.0   \n",
       "4  175ebe5f059ec050fd7ca59c6cc38b6e998034ae3cfb02bf                 0.0   \n",
       "\n",
       "   brand_num  patent_num  \n",
       "0       34.0         4.0  \n",
       "1        6.0         0.0  \n",
       "2        1.0         0.0  \n",
       "3        5.0         0.0  \n",
       "4       17.0         0.0  "
      ],
      "text/html": "<div>\n<style scoped>\n    .dataframe tbody tr th:only-of-type {\n        vertical-align: middle;\n    }\n\n    .dataframe tbody tr th {\n        vertical-align: top;\n    }\n\n    .dataframe thead th {\n        text-align: right;\n    }\n</style>\n<table border=\"1\" class=\"dataframe\">\n  <thead>\n    <tr style=\"text-align: right;\">\n      <th></th>\n      <th>id</th>\n      <th>legal_judgment_num</th>\n      <th>brand_num</th>\n      <th>patent_num</th>\n    </tr>\n  </thead>\n  <tbody>\n    <tr>\n      <th>0</th>\n      <td>09912c34159b1720558a419983a989f1dd2e0ed69a044ca3</td>\n      <td>10.0</td>\n      <td>34.0</td>\n      <td>4.0</td>\n    </tr>\n    <tr>\n      <th>1</th>\n      <td>0ba26b418aa50d3ca37396f2819750892b17f0dce3d7493c</td>\n      <td>0.0</td>\n      <td>6.0</td>\n      <td>0.0</td>\n    </tr>\n    <tr>\n      <th>2</th>\n      <td>175ebe5f059ec0503eb86987a7b6da7c40c6e69d5b54736f</td>\n      <td>4.0</td>\n      <td>1.0</td>\n      <td>0.0</td>\n    </tr>\n    <tr>\n      <th>3</th>\n      <td>175ebe5f059ec050afbd65251ecdd3b512bfbe5e62d041b0</td>\n      <td>5.0</td>\n      <td>5.0</td>\n      <td>0.0</td>\n    </tr>\n    <tr>\n      <th>4</th>\n      <td>175ebe5f059ec050fd7ca59c6cc38b6e998034ae3cfb02bf</td>\n      <td>0.0</td>\n      <td>17.0</td>\n      <td>0.0</td>\n    </tr>\n  </tbody>\n</table>\n</div>"
     },
     "metadata": {},
     "execution_count": 4
    }
   ],
   "source": [
    "temp = pd.DataFrame(other_info.id.value_counts()).reset_index()\n",
    "temp.columns = ['id', 'counts']\n",
    "other_info = other_info.groupby('id').sum().reset_index().merge(temp, on='id')\n",
    "other_info\n",
    "other_info.legal_judgment_num = other_info.legal_judgment_num / other_info.counts\n",
    "other_info.brand_num = other_info.brand_num / other_info.counts\n",
    "other_info.patent_num = other_info.patent_num / other_info.counts\n",
    "del other_info['counts']\n",
    "other_info.head()"
   ]
  },
  {
   "cell_type": "code",
   "execution_count": 5,
   "metadata": {},
   "outputs": [
    {
     "output_type": "execute_result",
     "data": {
      "text/plain": [
       "Empty DataFrame\n",
       "Columns: [col, isNA, notNA]\n",
       "Index: []"
      ],
      "text/html": "<div>\n<style scoped>\n    .dataframe tbody tr th:only-of-type {\n        vertical-align: middle;\n    }\n\n    .dataframe tbody tr th {\n        vertical-align: top;\n    }\n\n    .dataframe thead th {\n        text-align: right;\n    }\n</style>\n<table border=\"1\" class=\"dataframe\">\n  <thead>\n    <tr style=\"text-align: right;\">\n      <th></th>\n      <th>col</th>\n      <th>isNA</th>\n      <th>notNA</th>\n    </tr>\n  </thead>\n  <tbody>\n  </tbody>\n</table>\n</div>"
     },
     "metadata": {},
     "execution_count": 5
    }
   ],
   "source": [
    "na_table(other_info)"
   ]
  },
  {
   "cell_type": "code",
   "execution_count": 6,
   "metadata": {},
   "outputs": [],
   "source": [
    "other_info.set_index(keys='id', inplace=True)\n",
    "other_info.to_csv(features_dir + 'other_info.csv')"
   ]
  }
 ],
 "metadata": {
  "kernelspec": {
   "display_name": "Python 3",
   "language": "python",
   "name": "python3"
  },
  "language_info": {
   "codemirror_mode": {
    "name": "ipython",
    "version": 3
   },
   "file_extension": ".py",
   "mimetype": "text/x-python",
   "name": "python",
   "nbconvert_exporter": "python",
   "pygments_lexer": "ipython3",
   "version": "3.8.5-final"
  }
 },
 "nbformat": 4,
 "nbformat_minor": 4
}