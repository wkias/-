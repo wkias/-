{
 "cells": [
  {
   "cell_type": "code",
   "execution_count": 1,
   "metadata": {},
   "outputs": [],
   "source": [
    "import datetime\n",
    "import pandas as pd"
   ]
  },
  {
   "cell_type": "code",
   "execution_count": 2,
   "metadata": {},
   "outputs": [],
   "source": [
    "def na_table(x):\n",
    "    na = pd.DataFrame(x.isna().sum())\n",
    "    nna = pd.DataFrame(x.notna().sum())\n",
    "    na.reset_index(inplace=True)\n",
    "    nna.reset_index(inplace=True)\n",
    "    na = na[na[0]>0]\n",
    "    na = na.merge(nna, on='index')\n",
    "    na.columns = ['col', 'isNA', 'notNA']\n",
    "    return na"
   ]
  },
  {
   "cell_type": "code",
   "execution_count": 3,
   "metadata": {},
   "outputs": [
    {
     "output_type": "execute_result",
     "data": {
      "text/plain": [
       "              col  isNA  notNA\n",
       "0  TAXATION_BASIS  3264  21350\n",
       "1        TAX_RATE  3264  21350\n",
       "2       DEDUCTION  3490  21124"
      ],
      "text/html": "<div>\n<style scoped>\n    .dataframe tbody tr th:only-of-type {\n        vertical-align: middle;\n    }\n\n    .dataframe tbody tr th {\n        vertical-align: top;\n    }\n\n    .dataframe thead th {\n        text-align: right;\n    }\n</style>\n<table border=\"1\" class=\"dataframe\">\n  <thead>\n    <tr style=\"text-align: right;\">\n      <th></th>\n      <th>col</th>\n      <th>isNA</th>\n      <th>notNA</th>\n    </tr>\n  </thead>\n  <tbody>\n    <tr>\n      <th>0</th>\n      <td>TAXATION_BASIS</td>\n      <td>3264</td>\n      <td>21350</td>\n    </tr>\n    <tr>\n      <th>1</th>\n      <td>TAX_RATE</td>\n      <td>3264</td>\n      <td>21350</td>\n    </tr>\n    <tr>\n      <th>2</th>\n      <td>DEDUCTION</td>\n      <td>3490</td>\n      <td>21124</td>\n    </tr>\n  </tbody>\n</table>\n</div>"
     },
     "metadata": {},
     "execution_count": 3
    }
   ],
   "source": [
    "data_dir = '../train/'\n",
    "features_dir = '../features/'\n",
    "tax_info = pd.read_csv(data_dir + 'tax_info.csv',encoding = 'gbk')\n",
    "tax_info.drop_duplicates(inplace=True)\n",
    "t = tax_info.copy()\n",
    "na = na_table(tax_info)\n",
    "na"
   ]
  },
  {
   "cell_type": "code",
   "execution_count": 5,
   "metadata": {},
   "outputs": [
    {
     "output_type": "execute_result",
     "data": {
      "text/plain": [
       "                                                  TAX_CATEGORIES  TAX_ITEMS  \\\n",
       "id                                                                            \n",
       "216bd2aaf4d079243f3c0bd3d6d28333c790bd3aee0ddad8              45         45   \n",
       "216bd2aaf4d079248a1cb9c41425810a25d29c1fc1d1c15a               4          4   \n",
       "216bd2aaf4d07924caa4f30fb76969cba69358e90e310f5e               1          1   \n",
       "216bd2aaf4d07924d90a8951ef6a87c01e2f2ec78aa14698               2          2   \n",
       "47645761dc56bb8c0ee994e2cf201d523319b7160f6722f8               4          4   \n",
       "\n",
       "                                                  TAXATION_BASIS  TAX_RATE  \\\n",
       "id                                                                           \n",
       "216bd2aaf4d079243f3c0bd3d6d28333c790bd3aee0ddad8       850992.56  0.032127   \n",
       "216bd2aaf4d079248a1cb9c41425810a25d29c1fc1d1c15a            0.00  0.000000   \n",
       "216bd2aaf4d07924caa4f30fb76969cba69358e90e310f5e            0.00  0.000000   \n",
       "216bd2aaf4d07924d90a8951ef6a87c01e2f2ec78aa14698            0.00  0.000000   \n",
       "47645761dc56bb8c0ee994e2cf201d523319b7160f6722f8            0.00  0.000000   \n",
       "\n",
       "                                                  DEDUCTION  TAX_AMOUNT   gap  \n",
       "id                                                                             \n",
       "216bd2aaf4d079243f3c0bd3d6d28333c790bd3aee0ddad8       0.57     1714.89  1350  \n",
       "216bd2aaf4d079248a1cb9c41425810a25d29c1fc1d1c15a       0.00    25038.50   124  \n",
       "216bd2aaf4d07924caa4f30fb76969cba69358e90e310f5e       0.00     2400.00    31  \n",
       "216bd2aaf4d07924d90a8951ef6a87c01e2f2ec78aa14698       0.00      204.60    62  \n",
       "47645761dc56bb8c0ee994e2cf201d523319b7160f6722f8       0.00       73.94   124  "
      ],
      "text/html": "<div>\n<style scoped>\n    .dataframe tbody tr th:only-of-type {\n        vertical-align: middle;\n    }\n\n    .dataframe tbody tr th {\n        vertical-align: top;\n    }\n\n    .dataframe thead th {\n        text-align: right;\n    }\n</style>\n<table border=\"1\" class=\"dataframe\">\n  <thead>\n    <tr style=\"text-align: right;\">\n      <th></th>\n      <th>TAX_CATEGORIES</th>\n      <th>TAX_ITEMS</th>\n      <th>TAXATION_BASIS</th>\n      <th>TAX_RATE</th>\n      <th>DEDUCTION</th>\n      <th>TAX_AMOUNT</th>\n      <th>gap</th>\n    </tr>\n    <tr>\n      <th>id</th>\n      <th></th>\n      <th></th>\n      <th></th>\n      <th></th>\n      <th></th>\n      <th></th>\n      <th></th>\n    </tr>\n  </thead>\n  <tbody>\n    <tr>\n      <th>216bd2aaf4d079243f3c0bd3d6d28333c790bd3aee0ddad8</th>\n      <td>45</td>\n      <td>45</td>\n      <td>850992.56</td>\n      <td>0.032127</td>\n      <td>0.57</td>\n      <td>1714.89</td>\n      <td>1350</td>\n    </tr>\n    <tr>\n      <th>216bd2aaf4d079248a1cb9c41425810a25d29c1fc1d1c15a</th>\n      <td>4</td>\n      <td>4</td>\n      <td>0.00</td>\n      <td>0.000000</td>\n      <td>0.00</td>\n      <td>25038.50</td>\n      <td>124</td>\n    </tr>\n    <tr>\n      <th>216bd2aaf4d07924caa4f30fb76969cba69358e90e310f5e</th>\n      <td>1</td>\n      <td>1</td>\n      <td>0.00</td>\n      <td>0.000000</td>\n      <td>0.00</td>\n      <td>2400.00</td>\n      <td>31</td>\n    </tr>\n    <tr>\n      <th>216bd2aaf4d07924d90a8951ef6a87c01e2f2ec78aa14698</th>\n      <td>2</td>\n      <td>2</td>\n      <td>0.00</td>\n      <td>0.000000</td>\n      <td>0.00</td>\n      <td>204.60</td>\n      <td>62</td>\n    </tr>\n    <tr>\n      <th>47645761dc56bb8c0ee994e2cf201d523319b7160f6722f8</th>\n      <td>4</td>\n      <td>4</td>\n      <td>0.00</td>\n      <td>0.000000</td>\n      <td>0.00</td>\n      <td>73.94</td>\n      <td>124</td>\n    </tr>\n  </tbody>\n</table>\n</div>"
     },
     "metadata": {},
     "execution_count": 5
    }
   ],
   "source": [
    "tax_info.START_DATE = pd.to_datetime(tax_info.START_DATE)\n",
    "tax_info.END_DATE = pd.to_datetime(tax_info.END_DATE)\n",
    "tax_info['gap'] = tax_info.END_DATE-tax_info.START_DATE\n",
    "tax_info.gap = tax_info.gap.apply(lambda x:x.days + 1)\n",
    "temp = pd.DataFrame(tax_info.groupby('id').sum())\n",
    "tax_info = pd.DataFrame(tax_info.groupby('id').count())\n",
    "tax_info = pd.DataFrame([tax_info.TAX_CATEGORIES, tax_info.TAX_ITEMS]).T\n",
    "tax_info = tax_info.merge(temp, on='id')\n",
    "tax_info.TAX_RATE = tax_info.TAX_RATE / tax_info.TAX_CATEGORIES\n",
    "# tax_info = tax_info[(tax_info.TAXATION_BASIS == 0) & (tax_info.TAX_RATE == 0) & (tax_info.DEDUCTION == 0) & (tax_info.TAX_AMOUNT != 0)].replace(0, pd.NA)\n",
    "tax_info.to_csv(features_dir + 'tax_info.csv')\n",
    "tax_info.head()"
   ]
  },
  {
   "cell_type": "code",
   "execution_count": 6,
   "metadata": {},
   "outputs": [
    {
     "output_type": "execute_result",
     "data": {
      "text/plain": [
       "                  0\n",
       "TAX_CATEGORIES    0\n",
       "TAX_ITEMS         0\n",
       "TAXATION_BASIS  421\n",
       "TAX_RATE        421\n",
       "DEDUCTION       421\n",
       "TAX_AMOUNT        0\n",
       "gap               0"
      ],
      "text/html": "<div>\n<style scoped>\n    .dataframe tbody tr th:only-of-type {\n        vertical-align: middle;\n    }\n\n    .dataframe tbody tr th {\n        vertical-align: top;\n    }\n\n    .dataframe thead th {\n        text-align: right;\n    }\n</style>\n<table border=\"1\" class=\"dataframe\">\n  <thead>\n    <tr style=\"text-align: right;\">\n      <th></th>\n      <th>0</th>\n    </tr>\n  </thead>\n  <tbody>\n    <tr>\n      <th>TAX_CATEGORIES</th>\n      <td>0</td>\n    </tr>\n    <tr>\n      <th>TAX_ITEMS</th>\n      <td>0</td>\n    </tr>\n    <tr>\n      <th>TAXATION_BASIS</th>\n      <td>421</td>\n    </tr>\n    <tr>\n      <th>TAX_RATE</th>\n      <td>421</td>\n    </tr>\n    <tr>\n      <th>DEDUCTION</th>\n      <td>421</td>\n    </tr>\n    <tr>\n      <th>TAX_AMOUNT</th>\n      <td>0</td>\n    </tr>\n    <tr>\n      <th>gap</th>\n      <td>0</td>\n    </tr>\n  </tbody>\n</table>\n</div>"
     },
     "metadata": {},
     "execution_count": 6
    }
   ],
   "source": [
    "pd.DataFrame(tax_info[(tax_info.TAXATION_BASIS == 0) & (tax_info.TAX_RATE == 0) & (tax_info.DEDUCTION == 0) & (tax_info.TAX_AMOUNT != 0)].replace(0, pd.NA).isna().sum())"
   ]
  },
  {
   "cell_type": "code",
   "execution_count": 7,
   "metadata": {},
   "outputs": [
    {
     "output_type": "execute_result",
     "data": {
      "text/plain": [
       "                                                 id  tax0  tax1  tax2  tax3  \\\n",
       "0  216bd2aaf4d079243f3c0bd3d6d28333c790bd3aee0ddad8   0.0   0.0   0.0   0.0   \n",
       "1  216bd2aaf4d079248a1cb9c41425810a25d29c1fc1d1c15a   0.0   0.0   0.0   NaN   \n",
       "2  216bd2aaf4d07924caa4f30fb76969cba69358e90e310f5e   0.0   0.0   0.0   NaN   \n",
       "3  216bd2aaf4d07924d90a8951ef6a87c01e2f2ec78aa14698   0.0   0.0   0.0   0.0   \n",
       "4  47645761dc56bb8c0ee994e2cf201d523319b7160f6722f8   0.0   0.0   0.0   0.0   \n",
       "\n",
       "   tax4  tax5  tax6  tax7  tax8  ...  tax246  tax247  tax248  tax249  tax250  \\\n",
       "0   0.0   0.0   0.0   0.0   0.0  ...     0.0     0.0     0.0     0.0     0.0   \n",
       "1   0.0   0.0   0.0   0.0   0.0  ...     0.0     0.0     0.0     0.0     0.0   \n",
       "2   0.0   0.0   0.0   0.0   0.0  ...     0.0     0.0     0.0     0.0     0.0   \n",
       "3   0.0   0.0   0.0   0.0   0.0  ...     0.0     0.0     0.0     0.0     0.0   \n",
       "4   0.0   0.0   0.0   0.0   0.0  ...     0.0     0.0     0.0     0.0     0.0   \n",
       "\n",
       "   tax251  tax252  tax253  tax254  tax255  \n",
       "0     0.0     0.0     0.0     0.0     0.0  \n",
       "1     0.0     0.0     0.0     0.0     0.0  \n",
       "2     0.0     0.0     0.0     0.0     0.0  \n",
       "3     0.0     0.0     0.0     0.0     0.0  \n",
       "4     0.0     0.0     0.0     0.0     0.0  \n",
       "\n",
       "[5 rows x 257 columns]"
      ],
      "text/html": "<div>\n<style scoped>\n    .dataframe tbody tr th:only-of-type {\n        vertical-align: middle;\n    }\n\n    .dataframe tbody tr th {\n        vertical-align: top;\n    }\n\n    .dataframe thead th {\n        text-align: right;\n    }\n</style>\n<table border=\"1\" class=\"dataframe\">\n  <thead>\n    <tr style=\"text-align: right;\">\n      <th></th>\n      <th>id</th>\n      <th>tax0</th>\n      <th>tax1</th>\n      <th>tax2</th>\n      <th>tax3</th>\n      <th>tax4</th>\n      <th>tax5</th>\n      <th>tax6</th>\n      <th>tax7</th>\n      <th>tax8</th>\n      <th>...</th>\n      <th>tax246</th>\n      <th>tax247</th>\n      <th>tax248</th>\n      <th>tax249</th>\n      <th>tax250</th>\n      <th>tax251</th>\n      <th>tax252</th>\n      <th>tax253</th>\n      <th>tax254</th>\n      <th>tax255</th>\n    </tr>\n  </thead>\n  <tbody>\n    <tr>\n      <th>0</th>\n      <td>216bd2aaf4d079243f3c0bd3d6d28333c790bd3aee0ddad8</td>\n      <td>0.0</td>\n      <td>0.0</td>\n      <td>0.0</td>\n      <td>0.0</td>\n      <td>0.0</td>\n      <td>0.0</td>\n      <td>0.0</td>\n      <td>0.0</td>\n      <td>0.0</td>\n      <td>...</td>\n      <td>0.0</td>\n      <td>0.0</td>\n      <td>0.0</td>\n      <td>0.0</td>\n      <td>0.0</td>\n      <td>0.0</td>\n      <td>0.0</td>\n      <td>0.0</td>\n      <td>0.0</td>\n      <td>0.0</td>\n    </tr>\n    <tr>\n      <th>1</th>\n      <td>216bd2aaf4d079248a1cb9c41425810a25d29c1fc1d1c15a</td>\n      <td>0.0</td>\n      <td>0.0</td>\n      <td>0.0</td>\n      <td>NaN</td>\n      <td>0.0</td>\n      <td>0.0</td>\n      <td>0.0</td>\n      <td>0.0</td>\n      <td>0.0</td>\n      <td>...</td>\n      <td>0.0</td>\n      <td>0.0</td>\n      <td>0.0</td>\n      <td>0.0</td>\n      <td>0.0</td>\n      <td>0.0</td>\n      <td>0.0</td>\n      <td>0.0</td>\n      <td>0.0</td>\n      <td>0.0</td>\n    </tr>\n    <tr>\n      <th>2</th>\n      <td>216bd2aaf4d07924caa4f30fb76969cba69358e90e310f5e</td>\n      <td>0.0</td>\n      <td>0.0</td>\n      <td>0.0</td>\n      <td>NaN</td>\n      <td>0.0</td>\n      <td>0.0</td>\n      <td>0.0</td>\n      <td>0.0</td>\n      <td>0.0</td>\n      <td>...</td>\n      <td>0.0</td>\n      <td>0.0</td>\n      <td>0.0</td>\n      <td>0.0</td>\n      <td>0.0</td>\n      <td>0.0</td>\n      <td>0.0</td>\n      <td>0.0</td>\n      <td>0.0</td>\n      <td>0.0</td>\n    </tr>\n    <tr>\n      <th>3</th>\n      <td>216bd2aaf4d07924d90a8951ef6a87c01e2f2ec78aa14698</td>\n      <td>0.0</td>\n      <td>0.0</td>\n      <td>0.0</td>\n      <td>0.0</td>\n      <td>0.0</td>\n      <td>0.0</td>\n      <td>0.0</td>\n      <td>0.0</td>\n      <td>0.0</td>\n      <td>...</td>\n      <td>0.0</td>\n      <td>0.0</td>\n      <td>0.0</td>\n      <td>0.0</td>\n      <td>0.0</td>\n      <td>0.0</td>\n      <td>0.0</td>\n      <td>0.0</td>\n      <td>0.0</td>\n      <td>0.0</td>\n    </tr>\n    <tr>\n      <th>4</th>\n      <td>47645761dc56bb8c0ee994e2cf201d523319b7160f6722f8</td>\n      <td>0.0</td>\n      <td>0.0</td>\n      <td>0.0</td>\n      <td>0.0</td>\n      <td>0.0</td>\n      <td>0.0</td>\n      <td>0.0</td>\n      <td>0.0</td>\n      <td>0.0</td>\n      <td>...</td>\n      <td>0.0</td>\n      <td>0.0</td>\n      <td>0.0</td>\n      <td>0.0</td>\n      <td>0.0</td>\n      <td>0.0</td>\n      <td>0.0</td>\n      <td>0.0</td>\n      <td>0.0</td>\n      <td>0.0</td>\n    </tr>\n  </tbody>\n</table>\n<p>5 rows × 257 columns</p>\n</div>"
     },
     "metadata": {},
     "execution_count": 7
    }
   ],
   "source": [
    "tax_info = t\n",
    "tax_info['year'] = tax_info.START_DATE.apply(lambda x:x.split('/')[0])\n",
    "tax_info.fillna(-1, inplace=True)\n",
    "tax_info = tax_info.pivot_table(index='id', columns=['TAX_CATEGORIES', 'year']).fillna(0)\n",
    "tax_info.replace(-1, pd.NA, inplace=True)\n",
    "tax_info.reset_index(inplace=True)\n",
    "cols = ['id']\n",
    "cols.extend(['tax' + str(i) for i in range(len(tax_info.columns)-1)])\n",
    "tax_info.columns = cols\n",
    "tax_info.head()"
   ]
  },
  {
   "cell_type": "code",
   "execution_count": 8,
   "metadata": {},
   "outputs": [],
   "source": [
    "tax_info.set_index(keys='id', inplace=True)\n",
    "tax_info.to_csv(features_dir + 'tax_info_.csv')"
   ]
  }
 ],
 "metadata": {
  "kernelspec": {
   "display_name": "Python 3",
   "language": "python",
   "name": "python3"
  },
  "language_info": {
   "codemirror_mode": {
    "name": "ipython",
    "version": 3
   },
   "file_extension": ".py",
   "mimetype": "text/x-python",
   "name": "python",
   "nbconvert_exporter": "python",
   "pygments_lexer": "ipython3",
   "version": "3.8.5-final"
  }
 },
 "nbformat": 4,
 "nbformat_minor": 4
}