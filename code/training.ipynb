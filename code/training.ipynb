{
 "metadata": {
  "language_info": {
   "codemirror_mode": {
    "name": "ipython",
    "version": 3
   },
   "file_extension": ".py",
   "mimetype": "text/x-python",
   "name": "python",
   "nbconvert_exporter": "python",
   "pygments_lexer": "ipython3",
   "version": "3.8.5-final"
  },
  "orig_nbformat": 2,
  "kernelspec": {
   "name": "Python 3.8.5 64-bit ('w': conda)",
   "display_name": "Python 3.8.5 64-bit ('w': conda)",
   "metadata": {
    "interpreter": {
     "hash": "676aedceea7fc84534537127a7fbae2014c13e8cc8da94ff465a8c09804ac359"
    }
   }
  }
 },
 "nbformat": 4,
 "nbformat_minor": 2,
 "cells": [
  {
   "cell_type": "code",
   "execution_count": 1,
   "metadata": {},
   "outputs": [],
   "source": [
    "import json\n",
    "import numpy as np\n",
    "import pandas as pd\n",
    "import catboost as cb\n",
    "from catboost import CatBoostClassifier\n",
    "from imblearn.over_sampling import SMOTENC\n",
    "from imblearn.over_sampling import ADASYN\n",
    "from sklearn.metrics import classification_report\n",
    "from sklearn.model_selection import StratifiedKFold\n",
    "from sklearn.model_selection import train_test_split\n",
    "from sklearn.metrics import precision_recall_fscore_support"
   ]
  },
  {
   "cell_type": "code",
   "execution_count": 2,
   "metadata": {},
   "outputs": [],
   "source": [
    "features_dir = '../features/'\n",
    "data = pd.read_csv(features_dir + 'train_test.csv')\n",
    "cat_features = eval(open(features_dir + 'cat_cols').read())\n",
    "cat_features.extend(eval(open(features_dir + 'cat_cols_expand').read()))\n",
    "cat_features = list(set(cat_features))\n",
    "cat_features = [i for i in cat_features if i in data.columns]\n",
    "text_features = None\n",
    "if 'opscope' in data.columns:\n",
    "    text_features = ['opscope']\n",
    "for i in cat_features:\n",
    "    data[i] = data[i].astype('str')\n",
    "data = data.fillna(0)"
   ]
  },
  {
   "cell_type": "code",
   "execution_count": 3,
   "metadata": {},
   "outputs": [
    {
     "output_type": "execute_result",
     "data": {
      "text/plain": [
       "     label\n",
       "0.0  13884\n",
       "1.0    981"
      ],
      "text/html": "<div>\n<style scoped>\n    .dataframe tbody tr th:only-of-type {\n        vertical-align: middle;\n    }\n\n    .dataframe tbody tr th {\n        vertical-align: top;\n    }\n\n    .dataframe thead th {\n        text-align: right;\n    }\n</style>\n<table border=\"1\" class=\"dataframe\">\n  <thead>\n    <tr style=\"text-align: right;\">\n      <th></th>\n      <th>label</th>\n    </tr>\n  </thead>\n  <tbody>\n    <tr>\n      <th>0.0</th>\n      <td>13884</td>\n    </tr>\n    <tr>\n      <th>1.0</th>\n      <td>981</td>\n    </tr>\n  </tbody>\n</table>\n</div>"
     },
     "metadata": {},
     "execution_count": 3
    }
   ],
   "source": [
    "pd.DataFrame(data[data.label.notna()].label.value_counts())"
   ]
  },
  {
   "cell_type": "code",
   "execution_count": 10,
   "metadata": {},
   "outputs": [],
   "source": [
    "# a = pd.DataFrame(data.iloc[:,1:-1].dtypes)\n",
    "# b = []\n",
    "# b.extend(list(a[a[0]=='object'].index))\n",
    "# b.extend(list(a[a[0]=='bool'].index))\n",
    "# b.extend(list(cat_features))\n",
    "# cat_index_features = [(i in b) for i in data.iloc[:,1:-1].dtypes.index]\n",
    "# sm = SMOTENC(categorical_features=cat_index_features, n_jobs=8)\n",
    "# X, y = sm.fit_resample(data.iloc[:,1:-1], data.iloc[:,-1])"
   ]
  },
  {
   "cell_type": "code",
   "execution_count": 67,
   "metadata": {},
   "outputs": [],
   "source": [
    "def training(X_train, y_train, test):\n",
    "    cat = CatBoostClassifier(\n",
    "        iterations=500, \n",
    "        silent=True\n",
    "        # task_type='GPU',\n",
    "        # dictionaries=[\n",
    "        #     'Word:min_token_occurrence=5',\n",
    "        # ],\n",
    "        # text_processing=[\n",
    "        #     'NaiveBayes+Word|BoW:top_tokens_count=1000+Word|BM25+Word'\n",
    "        # ]\n",
    "        )\n",
    "    cat.fit(X_train, y=y_train,\n",
    "        cat_features=cat_features,\n",
    "        text_features=text_features, \n",
    "        eval_set=(X_test, y_test)\n",
    "    )\n",
    "    return cat"
   ]
  },
  {
   "cell_type": "code",
   "execution_count": 68,
   "metadata": {
    "tags": []
   },
   "outputs": [],
   "source": [
    "# X_train, X_test, y_train, y_test = train_test_split(data.iloc[:,1:-1], data.iloc[:,-1], test_size=0.2)\n",
    "# cat = training(X_train, y_train, (X_test, y_test))\n",
    "# y_pred = pd.Series(cat.predict_proba(X_test)[:,1]).apply(lambda x:1 if x > 0.5 else 0)\n",
    "# print(classification_report(y_test, y_pred))"
   ]
  },
  {
   "cell_type": "code",
   "execution_count": 77,
   "metadata": {},
   "outputs": [
    {
     "output_type": "stream",
     "name": "stdout",
     "text": [
      "              precision    recall  f1-score   support\n",
      "\n",
      "         0.0       0.99      0.99      0.99      2777\n",
      "         1.0       0.82      0.85      0.83       196\n",
      "\n",
      "    accuracy                           0.98      2973\n",
      "   macro avg       0.91      0.92      0.91      2973\n",
      "weighted avg       0.98      0.98      0.98      2973\n",
      " \n",
      "\n",
      "              precision    recall  f1-score   support\n",
      "\n",
      "         0.0       0.99      0.99      0.99      2777\n",
      "         1.0       0.83      0.86      0.85       196\n",
      "\n",
      "    accuracy                           0.98      2973\n",
      "   macro avg       0.91      0.93      0.92      2973\n",
      "weighted avg       0.98      0.98      0.98      2973\n",
      " \n",
      "\n",
      "              precision    recall  f1-score   support\n",
      "\n",
      "         0.0       0.99      0.99      0.99      2777\n",
      "         1.0       0.84      0.86      0.85       196\n",
      "\n",
      "    accuracy                           0.98      2973\n",
      "   macro avg       0.92      0.93      0.92      2973\n",
      "weighted avg       0.98      0.98      0.98      2973\n",
      " \n",
      "\n",
      "              precision    recall  f1-score   support\n",
      "\n",
      "         0.0       0.99      0.99      0.99      2777\n",
      "         1.0       0.84      0.88      0.86       196\n",
      "\n",
      "    accuracy                           0.98      2973\n",
      "   macro avg       0.92      0.93      0.92      2973\n",
      "weighted avg       0.98      0.98      0.98      2973\n",
      " \n",
      "\n",
      "              precision    recall  f1-score   support\n",
      "\n",
      "         0.0       0.99      0.98      0.99      2776\n",
      "         1.0       0.79      0.87      0.83       197\n",
      "\n",
      "    accuracy                           0.98      2973\n",
      "   macro avg       0.89      0.93      0.91      2973\n",
      "weighted avg       0.98      0.98      0.98      2973\n",
      " \n",
      "\n"
     ]
    }
   ],
   "source": [
    "X = data.iloc[:,1:-1]\n",
    "y = data.iloc[:,-1]\n",
    "skf = StratifiedKFold(shuffle=True)\n",
    "report = []\n",
    "report_dict = []\n",
    "cat = []\n",
    "for train_index, test_index in skf.split(X, y):\n",
    "    X_train, X_test = X.loc[train_index,:], X.loc[test_index,:]\n",
    "    y_train, y_test = y[train_index], y[test_index]\n",
    "    cat.append(training(X_train, y_train, (X_test, y_test)))\n",
    "    y_pred = pd.Series(cat[-1].predict_proba(X_test)[:,1]).apply(lambda x:1 if x > 0.5 else 0)\n",
    "    report.append(classification_report(y_test, y_pred))\n",
    "    report_dict.append(classification_report(y_test, y_pred, output_dict=True))\n",
    "    print(report[-1], '\\n')"
   ]
  },
  {
   "cell_type": "code",
   "execution_count": 70,
   "metadata": {
    "tags": []
   },
   "outputs": [],
   "source": [
    "# cat = training(data.iloc[:,1:-1], data.iloc[:,-1], None)"
   ]
  },
  {
   "cell_type": "code",
   "execution_count": 79,
   "metadata": {},
   "outputs": [],
   "source": [
    "features_dir = '../features/'\n",
    "eval_set = pd.read_csv(features_dir + 'evaluate.csv')\n",
    "for i in cat_features:\n",
    "    eval_set[i] = eval_set[i].astype('str')\n",
    "evaluate = pd.DataFrame(eval_set.id)\n",
    "evaluate['score'] = pd.DataFrame(cat[3].predict_proba(eval_set.iloc[:,1:])[:,1])\n",
    "evaluate.to_csv('../evaluate.csv', index=False)"
   ]
  }
 ]
}