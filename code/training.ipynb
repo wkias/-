{
 "metadata": {
  "language_info": {
   "codemirror_mode": {
    "name": "ipython",
    "version": 3
   },
   "file_extension": ".py",
   "mimetype": "text/x-python",
   "name": "python",
   "nbconvert_exporter": "python",
   "pygments_lexer": "ipython3",
   "version": "3.8.5-final"
  },
  "orig_nbformat": 2,
  "kernelspec": {
   "name": "Python 3.8.5 64-bit ('w': conda)",
   "display_name": "Python 3.8.5 64-bit ('w': conda)",
   "metadata": {
    "interpreter": {
     "hash": "676aedceea7fc84534537127a7fbae2014c13e8cc8da94ff465a8c09804ac359"
    }
   }
  }
 },
 "nbformat": 4,
 "nbformat_minor": 2,
 "cells": [
  {
   "cell_type": "code",
   "execution_count": 1,
   "metadata": {},
   "outputs": [],
   "source": [
    "import json\n",
    "import numpy as np\n",
    "import pandas as pd\n",
    "import catboost as cb\n",
    "from sklearn.model_selection import train_test_split\n",
    "from catboost import CatBoostClassifier\n",
    "from sklearn.model_selection import StratifiedKFold\n",
    "from sklearn.metrics import classification_report\n",
    "from sklearn.metrics import precision_recall_fscore_support"
   ]
  },
  {
   "cell_type": "code",
   "execution_count": 2,
   "metadata": {},
   "outputs": [],
   "source": [
    "features_dir = '../features/'\n",
    "data = pd.read_csv(features_dir + 'train_test.csv')\n",
    "cat_features = eval(open(features_dir + 'cat_cols').read())\n",
    "cat_features.extend(eval(open(features_dir + 'cat_cols_expand').read()))\n",
    "cat_features = list(set(cat_features))\n",
    "cat_features = [i for i in cat_features if i in data.columns]\n",
    "text_features = ['opscope']\n",
    "for i in cat_features:\n",
    "    data[i] = data[i].astype('str')"
   ]
  },
  {
   "cell_type": "code",
   "execution_count": 3,
   "metadata": {},
   "outputs": [],
   "source": [
    "def training(X_train, y_train, test):\n",
    "    cat = CatBoostClassifier(iterations=500, silent=True)\n",
    "    cat.fit(X_train, y=y_train,\n",
    "        cat_features=cat_features,\n",
    "        # text_features=text_features, \n",
    "        eval_set=(X_test, y_test)\n",
    "    )\n",
    "    return cat"
   ]
  },
  {
   "cell_type": "code",
   "execution_count": 4,
   "metadata": {
    "tags": []
   },
   "outputs": [],
   "source": [
    "# X_train, X_test, y_train, y_test = train_test_split(data.iloc[:,1:-1], data.iloc[:,-1], test_size=0.2)\n",
    "# cat = training(X_train, y_train, (X_test, y_test))\n",
    "# y_pred = pd.Series(cat.predict_proba(X_test)[:,1]).apply(lambda x:1 if x > 0.5 else 0)\n",
    "# print(classification_report(y_test, y_pred))"
   ]
  },
  {
   "cell_type": "code",
   "execution_count": 5,
   "metadata": {},
   "outputs": [
    {
     "output_type": "stream",
     "name": "stdout",
     "text": [
      "              precision    recall  f1-score   support\n",
      "\n",
      "         0.0       0.99      0.98      0.99      2777\n",
      "         1.0       0.79      0.89      0.84       196\n",
      "\n",
      "    accuracy                           0.98      2973\n",
      "   macro avg       0.89      0.94      0.91      2973\n",
      "weighted avg       0.98      0.98      0.98      2973\n",
      " \n",
      "\n",
      "              precision    recall  f1-score   support\n",
      "\n",
      "         0.0       0.99      0.98      0.99      2777\n",
      "         1.0       0.79      0.88      0.83       196\n",
      "\n",
      "    accuracy                           0.98      2973\n",
      "   macro avg       0.89      0.93      0.91      2973\n",
      "weighted avg       0.98      0.98      0.98      2973\n",
      " \n",
      "\n",
      "              precision    recall  f1-score   support\n",
      "\n",
      "         0.0       0.99      0.99      0.99      2777\n",
      "         1.0       0.82      0.87      0.84       196\n",
      "\n",
      "    accuracy                           0.98      2973\n",
      "   macro avg       0.90      0.93      0.92      2973\n",
      "weighted avg       0.98      0.98      0.98      2973\n",
      " \n",
      "\n",
      "              precision    recall  f1-score   support\n",
      "\n",
      "         0.0       0.99      0.99      0.99      2777\n",
      "         1.0       0.90      0.81      0.85       196\n",
      "\n",
      "    accuracy                           0.98      2973\n",
      "   macro avg       0.94      0.90      0.92      2973\n",
      "weighted avg       0.98      0.98      0.98      2973\n",
      " \n",
      "\n",
      "              precision    recall  f1-score   support\n",
      "\n",
      "         0.0       0.99      0.98      0.99      2776\n",
      "         1.0       0.78      0.82      0.80       197\n",
      "\n",
      "    accuracy                           0.97      2973\n",
      "   macro avg       0.88      0.90      0.89      2973\n",
      "weighted avg       0.97      0.97      0.97      2973\n",
      " \n",
      "\n"
     ]
    }
   ],
   "source": [
    "X = data.iloc[:,1:-1]\n",
    "y = data.iloc[:,-1]\n",
    "skf = StratifiedKFold()\n",
    "report = []\n",
    "for train_index, test_index in skf.split(X, y):\n",
    "    X_train, X_test = X.loc[train_index,:], X.loc[test_index,:]\n",
    "    y_train, y_test = y[train_index], y[test_index]\n",
    "    cat = training(X_train, y_train, (X_test, y_test))\n",
    "    y_pred = pd.Series(cat.predict_proba(X_test)[:,1]).apply(lambda x:1 if x > 0.5 else 0)\n",
    "    report.append(classification_report(y_test, y_pred))\n",
    "    print(report[-1], '\\n')"
   ]
  },
  {
   "cell_type": "code",
   "execution_count": 6,
   "metadata": {
    "tags": []
   },
   "outputs": [
    {
     "output_type": "execute_result",
     "data": {
      "text/plain": [
       "<catboost.core.CatBoostClassifier at 0x2114f34bd00>"
      ]
     },
     "metadata": {},
     "execution_count": 6
    }
   ],
   "source": [
    "cat = CatBoostClassifier(iterations=500, silent=True)\n",
    "cat.fit(data.iloc[:,1:-1], data.iloc[:,-1], cat_features=cat_features)"
   ]
  },
  {
   "cell_type": "code",
   "execution_count": 7,
   "metadata": {},
   "outputs": [],
   "source": [
    "features_dir = '../features/'\n",
    "data = pd.read_csv(features_dir + 'evaluate.csv')\n",
    "for i in cat_features:\n",
    "    data[i] = data[i].astype('str')\n",
    "evaluate = pd.DataFrame(data.id)\n",
    "evaluate['score'] = pd.DataFrame(cat.predict_proba(data.iloc[:,1:])[:,1])"
   ]
  },
  {
   "cell_type": "code",
   "execution_count": 8,
   "metadata": {},
   "outputs": [],
   "source": [
    "submit = pd.read_csv('../entprise_evaluate.csv')\n",
    "submit = submit.merge(evaluate, on='id')\n",
    "# submit.to_csv('../submit.csv', index=False)"
   ]
  }
 ]
}